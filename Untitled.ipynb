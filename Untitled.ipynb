{
 "cells": [
  {
   "cell_type": "code",
   "execution_count": 108,
   "id": "29657c66",
   "metadata": {},
   "outputs": [],
   "source": [
    "import pandas as pd\n",
    "import numpy as np\n",
    "import matplotlib.pyplot as plt\n",
    "import seaborn as sns\n",
    "%matplotlib inline\n",
    "import warnings\n",
    "warnings.filterwarnings('ignore')"
   ]
  },
  {
   "cell_type": "code",
   "execution_count": 109,
   "id": "19e495d8",
   "metadata": {},
   "outputs": [],
   "source": [
    "data=pd.read_csv(\"emp_attrition.csv\")"
   ]
  },
  {
   "cell_type": "code",
   "execution_count": 110,
   "id": "87147e10",
   "metadata": {},
   "outputs": [
    {
     "data": {
      "text/html": [
       "<div>\n",
       "<style scoped>\n",
       "    .dataframe tbody tr th:only-of-type {\n",
       "        vertical-align: middle;\n",
       "    }\n",
       "\n",
       "    .dataframe tbody tr th {\n",
       "        vertical-align: top;\n",
       "    }\n",
       "\n",
       "    .dataframe thead th {\n",
       "        text-align: right;\n",
       "    }\n",
       "</style>\n",
       "<table border=\"1\" class=\"dataframe\">\n",
       "  <thead>\n",
       "    <tr style=\"text-align: right;\">\n",
       "      <th></th>\n",
       "      <th>Age</th>\n",
       "      <th>BusinessTravel</th>\n",
       "      <th>Department</th>\n",
       "      <th>DistanceFromHome</th>\n",
       "      <th>EducationField</th>\n",
       "      <th>EnvironmentSatisfaction</th>\n",
       "      <th>Gender</th>\n",
       "      <th>JobInvolvement</th>\n",
       "      <th>JobLevel</th>\n",
       "      <th>JobRole</th>\n",
       "      <th>JobSatisfaction</th>\n",
       "      <th>NumCompaniesWorked</th>\n",
       "      <th>Date</th>\n",
       "      <th>OverTime</th>\n",
       "      <th>PercentSalaryHike</th>\n",
       "      <th>PerformanceRating</th>\n",
       "      <th>YearsAtCompany</th>\n",
       "      <th>MonthlyIncome</th>\n",
       "      <th>Attrition</th>\n",
       "    </tr>\n",
       "  </thead>\n",
       "  <tbody>\n",
       "    <tr>\n",
       "      <th>0</th>\n",
       "      <td>33.0</td>\n",
       "      <td>Travel_Frequently</td>\n",
       "      <td>Research &amp; Development</td>\n",
       "      <td>3.0</td>\n",
       "      <td>Life Sciences</td>\n",
       "      <td>1.0</td>\n",
       "      <td>Male</td>\n",
       "      <td>3.0</td>\n",
       "      <td>1.0</td>\n",
       "      <td>Research Scientist</td>\n",
       "      <td>1.0</td>\n",
       "      <td>1.0</td>\n",
       "      <td>7/25/2016 19:04</td>\n",
       "      <td>Yes</td>\n",
       "      <td>11.0</td>\n",
       "      <td>3.0</td>\n",
       "      <td>10.0</td>\n",
       "      <td>3348.0</td>\n",
       "      <td>Yes</td>\n",
       "    </tr>\n",
       "    <tr>\n",
       "      <th>1</th>\n",
       "      <td>32.0</td>\n",
       "      <td>Travel_Rarely</td>\n",
       "      <td>Sales</td>\n",
       "      <td>4.0</td>\n",
       "      <td>Medical</td>\n",
       "      <td>4.0</td>\n",
       "      <td>Male</td>\n",
       "      <td>1.0</td>\n",
       "      <td>3.0</td>\n",
       "      <td>Sales Executive</td>\n",
       "      <td>4.0</td>\n",
       "      <td>1.0</td>\n",
       "      <td>8/21/2011 16:29</td>\n",
       "      <td>No</td>\n",
       "      <td>11.0</td>\n",
       "      <td>3.0</td>\n",
       "      <td>14.0</td>\n",
       "      <td>10400.0</td>\n",
       "      <td>Yes</td>\n",
       "    </tr>\n",
       "    <tr>\n",
       "      <th>2</th>\n",
       "      <td>40.0</td>\n",
       "      <td>Travel_Rarely</td>\n",
       "      <td>Research &amp; Development</td>\n",
       "      <td>9.0</td>\n",
       "      <td>Life Sciences</td>\n",
       "      <td>4.0</td>\n",
       "      <td>Male</td>\n",
       "      <td>3.0</td>\n",
       "      <td>1.0</td>\n",
       "      <td>Laboratory Technician</td>\n",
       "      <td>1.0</td>\n",
       "      <td>3.0</td>\n",
       "      <td>9/22/2010 6:12</td>\n",
       "      <td>No</td>\n",
       "      <td>14.0</td>\n",
       "      <td>3.0</td>\n",
       "      <td>5.0</td>\n",
       "      <td>2018.0</td>\n",
       "      <td>Yes</td>\n",
       "    </tr>\n",
       "    <tr>\n",
       "      <th>3</th>\n",
       "      <td>42.0</td>\n",
       "      <td>Travel_Rarely</td>\n",
       "      <td>Research &amp; Development</td>\n",
       "      <td>7.0</td>\n",
       "      <td>Medical</td>\n",
       "      <td>2.0</td>\n",
       "      <td>Female</td>\n",
       "      <td>4.0</td>\n",
       "      <td>2.0</td>\n",
       "      <td>Research Scientist</td>\n",
       "      <td>2.0</td>\n",
       "      <td>6.0</td>\n",
       "      <td>11/18/2014 11:17</td>\n",
       "      <td>Yes</td>\n",
       "      <td>16.0</td>\n",
       "      <td>3.0</td>\n",
       "      <td>1.0</td>\n",
       "      <td>2372.0</td>\n",
       "      <td>No</td>\n",
       "    </tr>\n",
       "    <tr>\n",
       "      <th>4</th>\n",
       "      <td>43.0</td>\n",
       "      <td>Travel_Frequently</td>\n",
       "      <td>Research &amp; Development</td>\n",
       "      <td>27.0</td>\n",
       "      <td>Life Sciences</td>\n",
       "      <td>3.0</td>\n",
       "      <td>Female</td>\n",
       "      <td>3.0</td>\n",
       "      <td>3.0</td>\n",
       "      <td>Manufacturing Director</td>\n",
       "      <td>1.0</td>\n",
       "      <td>8.0</td>\n",
       "      <td>3/9/2011 11:58</td>\n",
       "      <td>No</td>\n",
       "      <td>11.0</td>\n",
       "      <td>3.0</td>\n",
       "      <td>8.0</td>\n",
       "      <td>10820.0</td>\n",
       "      <td>No</td>\n",
       "    </tr>\n",
       "  </tbody>\n",
       "</table>\n",
       "</div>"
      ],
      "text/plain": [
       "    Age     BusinessTravel              Department DistanceFromHome  \\\n",
       "0  33.0  Travel_Frequently  Research & Development              3.0   \n",
       "1  32.0      Travel_Rarely                   Sales              4.0   \n",
       "2  40.0      Travel_Rarely  Research & Development              9.0   \n",
       "3  42.0      Travel_Rarely  Research & Development              7.0   \n",
       "4  43.0  Travel_Frequently  Research & Development             27.0   \n",
       "\n",
       "  EducationField EnvironmentSatisfaction  Gender  JobInvolvement  JobLevel  \\\n",
       "0  Life Sciences                     1.0    Male             3.0       1.0   \n",
       "1        Medical                     4.0    Male             1.0       3.0   \n",
       "2  Life Sciences                     4.0    Male             3.0       1.0   \n",
       "3        Medical                     2.0  Female             4.0       2.0   \n",
       "4  Life Sciences                     3.0  Female             3.0       3.0   \n",
       "\n",
       "                  JobRole  JobSatisfaction NumCompaniesWorked  \\\n",
       "0      Research Scientist              1.0                1.0   \n",
       "1         Sales Executive              4.0                1.0   \n",
       "2   Laboratory Technician              1.0                3.0   \n",
       "3      Research Scientist              2.0                6.0   \n",
       "4  Manufacturing Director              1.0                8.0   \n",
       "\n",
       "               Date OverTime PercentSalaryHike PerformanceRating  \\\n",
       "0   7/25/2016 19:04      Yes              11.0               3.0   \n",
       "1   8/21/2011 16:29       No              11.0               3.0   \n",
       "2    9/22/2010 6:12       No              14.0               3.0   \n",
       "3  11/18/2014 11:17      Yes              16.0               3.0   \n",
       "4    3/9/2011 11:58       No              11.0               3.0   \n",
       "\n",
       "   YearsAtCompany MonthlyIncome Attrition  \n",
       "0            10.0        3348.0       Yes  \n",
       "1            14.0       10400.0       Yes  \n",
       "2             5.0        2018.0       Yes  \n",
       "3             1.0        2372.0        No  \n",
       "4             8.0       10820.0        No  "
      ]
     },
     "execution_count": 110,
     "metadata": {},
     "output_type": "execute_result"
    }
   ],
   "source": [
    "data.head()"
   ]
  },
  {
   "cell_type": "code",
   "execution_count": 111,
   "id": "8d4202b9",
   "metadata": {},
   "outputs": [
    {
     "name": "stdout",
     "output_type": "stream",
     "text": [
      "<class 'pandas.core.frame.DataFrame'>\n",
      "RangeIndex: 21381 entries, 0 to 21380\n",
      "Data columns (total 19 columns):\n",
      " #   Column                   Non-Null Count  Dtype  \n",
      "---  ------                   --------------  -----  \n",
      " 0   Age                      21355 non-null  float64\n",
      " 1   BusinessTravel           21347 non-null  object \n",
      " 2   Department               21339 non-null  object \n",
      " 3   DistanceFromHome         21334 non-null  object \n",
      " 4   EducationField           21353 non-null  object \n",
      " 5   EnvironmentSatisfaction  21342 non-null  object \n",
      " 6   Gender                   21331 non-null  object \n",
      " 7   JobInvolvement           21358 non-null  float64\n",
      " 8   JobLevel                 21350 non-null  float64\n",
      " 9   JobRole                  21345 non-null  object \n",
      " 10  JobSatisfaction          21352 non-null  float64\n",
      " 11  NumCompaniesWorked       21333 non-null  object \n",
      " 12  Date                     21381 non-null  object \n",
      " 13  OverTime                 21333 non-null  object \n",
      " 14  PercentSalaryHike        21366 non-null  object \n",
      " 15  PerformanceRating        21351 non-null  object \n",
      " 16  YearsAtCompany           21333 non-null  float64\n",
      " 17  MonthlyIncome            21365 non-null  object \n",
      " 18  Attrition                21343 non-null  object \n",
      "dtypes: float64(5), object(14)\n",
      "memory usage: 3.1+ MB\n"
     ]
    }
   ],
   "source": [
    "data.info()"
   ]
  },
  {
   "cell_type": "code",
   "execution_count": 112,
   "id": "084b60d6",
   "metadata": {},
   "outputs": [
    {
     "data": {
      "text/html": [
       "<div>\n",
       "<style scoped>\n",
       "    .dataframe tbody tr th:only-of-type {\n",
       "        vertical-align: middle;\n",
       "    }\n",
       "\n",
       "    .dataframe tbody tr th {\n",
       "        vertical-align: top;\n",
       "    }\n",
       "\n",
       "    .dataframe thead th {\n",
       "        text-align: right;\n",
       "    }\n",
       "</style>\n",
       "<table border=\"1\" class=\"dataframe\">\n",
       "  <thead>\n",
       "    <tr style=\"text-align: right;\">\n",
       "      <th></th>\n",
       "      <th>Age</th>\n",
       "      <th>JobInvolvement</th>\n",
       "      <th>JobLevel</th>\n",
       "      <th>JobSatisfaction</th>\n",
       "      <th>YearsAtCompany</th>\n",
       "    </tr>\n",
       "  </thead>\n",
       "  <tbody>\n",
       "    <tr>\n",
       "      <th>count</th>\n",
       "      <td>21355.000000</td>\n",
       "      <td>21358.000000</td>\n",
       "      <td>21350.000000</td>\n",
       "      <td>21352.000000</td>\n",
       "      <td>21333.000000</td>\n",
       "    </tr>\n",
       "    <tr>\n",
       "      <th>mean</th>\n",
       "      <td>30.840834</td>\n",
       "      <td>2.142289</td>\n",
       "      <td>1.926557</td>\n",
       "      <td>2.146028</td>\n",
       "      <td>8.144612</td>\n",
       "    </tr>\n",
       "    <tr>\n",
       "      <th>std</th>\n",
       "      <td>15.647045</td>\n",
       "      <td>0.850059</td>\n",
       "      <td>0.820964</td>\n",
       "      <td>0.932168</td>\n",
       "      <td>4.974814</td>\n",
       "    </tr>\n",
       "    <tr>\n",
       "      <th>min</th>\n",
       "      <td>1.000000</td>\n",
       "      <td>1.000000</td>\n",
       "      <td>1.000000</td>\n",
       "      <td>1.000000</td>\n",
       "      <td>0.000000</td>\n",
       "    </tr>\n",
       "    <tr>\n",
       "      <th>25%</th>\n",
       "      <td>19.000000</td>\n",
       "      <td>1.000000</td>\n",
       "      <td>1.000000</td>\n",
       "      <td>1.000000</td>\n",
       "      <td>4.000000</td>\n",
       "    </tr>\n",
       "    <tr>\n",
       "      <th>50%</th>\n",
       "      <td>31.000000</td>\n",
       "      <td>2.000000</td>\n",
       "      <td>2.000000</td>\n",
       "      <td>2.000000</td>\n",
       "      <td>8.000000</td>\n",
       "    </tr>\n",
       "    <tr>\n",
       "      <th>75%</th>\n",
       "      <td>43.000000</td>\n",
       "      <td>3.000000</td>\n",
       "      <td>3.000000</td>\n",
       "      <td>3.000000</td>\n",
       "      <td>12.000000</td>\n",
       "    </tr>\n",
       "    <tr>\n",
       "      <th>max</th>\n",
       "      <td>60.000000</td>\n",
       "      <td>4.000000</td>\n",
       "      <td>4.000000</td>\n",
       "      <td>4.000000</td>\n",
       "      <td>18.000000</td>\n",
       "    </tr>\n",
       "  </tbody>\n",
       "</table>\n",
       "</div>"
      ],
      "text/plain": [
       "                Age  JobInvolvement      JobLevel  JobSatisfaction  \\\n",
       "count  21355.000000    21358.000000  21350.000000     21352.000000   \n",
       "mean      30.840834        2.142289      1.926557         2.146028   \n",
       "std       15.647045        0.850059      0.820964         0.932168   \n",
       "min        1.000000        1.000000      1.000000         1.000000   \n",
       "25%       19.000000        1.000000      1.000000         1.000000   \n",
       "50%       31.000000        2.000000      2.000000         2.000000   \n",
       "75%       43.000000        3.000000      3.000000         3.000000   \n",
       "max       60.000000        4.000000      4.000000         4.000000   \n",
       "\n",
       "       YearsAtCompany  \n",
       "count    21333.000000  \n",
       "mean         8.144612  \n",
       "std          4.974814  \n",
       "min          0.000000  \n",
       "25%          4.000000  \n",
       "50%          8.000000  \n",
       "75%         12.000000  \n",
       "max         18.000000  "
      ]
     },
     "execution_count": 112,
     "metadata": {},
     "output_type": "execute_result"
    }
   ],
   "source": [
    "data.describe()"
   ]
  },
  {
   "cell_type": "code",
   "execution_count": 113,
   "id": "c3b97d1c",
   "metadata": {},
   "outputs": [
    {
     "data": {
      "text/plain": [
       "Index(['Age', 'BusinessTravel', 'Department', 'DistanceFromHome',\n",
       "       'EducationField', 'EnvironmentSatisfaction', 'Gender', 'JobInvolvement',\n",
       "       'JobLevel', 'JobRole', 'JobSatisfaction', 'NumCompaniesWorked', 'Date',\n",
       "       'OverTime', 'PercentSalaryHike', 'PerformanceRating', 'YearsAtCompany',\n",
       "       'MonthlyIncome', 'Attrition'],\n",
       "      dtype='object')"
      ]
     },
     "execution_count": 113,
     "metadata": {},
     "output_type": "execute_result"
    }
   ],
   "source": [
    "data.columns"
   ]
  },
  {
   "cell_type": "code",
   "execution_count": 114,
   "id": "05cdc2e1",
   "metadata": {},
   "outputs": [
    {
     "data": {
      "text/plain": [
       "(21381, 19)"
      ]
     },
     "execution_count": 114,
     "metadata": {},
     "output_type": "execute_result"
    }
   ],
   "source": [
    "data.shape"
   ]
  },
  {
   "cell_type": "code",
   "execution_count": 115,
   "id": "107aafa7",
   "metadata": {},
   "outputs": [
    {
     "data": {
      "text/plain": [
       "Age                        26\n",
       "BusinessTravel             34\n",
       "Department                 42\n",
       "DistanceFromHome           47\n",
       "EducationField             28\n",
       "EnvironmentSatisfaction    39\n",
       "Gender                     50\n",
       "JobInvolvement             23\n",
       "JobLevel                   31\n",
       "JobRole                    36\n",
       "JobSatisfaction            29\n",
       "NumCompaniesWorked         48\n",
       "Date                        0\n",
       "OverTime                   48\n",
       "PercentSalaryHike          15\n",
       "PerformanceRating          30\n",
       "YearsAtCompany             48\n",
       "MonthlyIncome              16\n",
       "Attrition                  38\n",
       "dtype: int64"
      ]
     },
     "execution_count": 115,
     "metadata": {},
     "output_type": "execute_result"
    }
   ],
   "source": [
    "data.isnull().sum()"
   ]
  },
  {
   "cell_type": "code",
   "execution_count": 116,
   "id": "fc4a7a66",
   "metadata": {},
   "outputs": [
    {
     "data": {
      "text/plain": [
       "Age                           60\n",
       "BusinessTravel                 3\n",
       "Department                     3\n",
       "DistanceFromHome              30\n",
       "EducationField                 7\n",
       "EnvironmentSatisfaction        6\n",
       "Gender                         2\n",
       "JobInvolvement                 4\n",
       "JobLevel                       4\n",
       "JobRole                       10\n",
       "JobSatisfaction                4\n",
       "NumCompaniesWorked            10\n",
       "Date                       21069\n",
       "OverTime                       2\n",
       "PercentSalaryHike             20\n",
       "PerformanceRating              4\n",
       "YearsAtCompany                19\n",
       "MonthlyIncome              10696\n",
       "Attrition                      2\n",
       "dtype: int64"
      ]
     },
     "execution_count": 116,
     "metadata": {},
     "output_type": "execute_result"
    }
   ],
   "source": [
    "data.nunique()"
   ]
  },
  {
   "cell_type": "code",
   "execution_count": 117,
   "id": "227b3acb",
   "metadata": {
    "scrolled": true
   },
   "outputs": [
    {
     "data": {
      "text/plain": [
       "Age                        26\n",
       "BusinessTravel             34\n",
       "Department                 42\n",
       "DistanceFromHome           47\n",
       "EducationField             28\n",
       "EnvironmentSatisfaction    39\n",
       "Gender                     50\n",
       "JobInvolvement             23\n",
       "JobLevel                   31\n",
       "JobRole                    36\n",
       "JobSatisfaction            29\n",
       "NumCompaniesWorked         48\n",
       "Date                        0\n",
       "OverTime                   48\n",
       "PercentSalaryHike          15\n",
       "PerformanceRating          30\n",
       "YearsAtCompany             48\n",
       "MonthlyIncome              16\n",
       "Attrition                  38\n",
       "dtype: int64"
      ]
     },
     "execution_count": 117,
     "metadata": {},
     "output_type": "execute_result"
    }
   ],
   "source": [
    "data.isnull().sum()"
   ]
  },
  {
   "cell_type": "code",
   "execution_count": 118,
   "id": "312e6629",
   "metadata": {},
   "outputs": [
    {
     "data": {
      "text/plain": [
       "(21381, 19)"
      ]
     },
     "execution_count": 118,
     "metadata": {},
     "output_type": "execute_result"
    }
   ],
   "source": [
    "data.shape"
   ]
  },
  {
   "cell_type": "code",
   "execution_count": 119,
   "id": "bb9f61ca",
   "metadata": {},
   "outputs": [],
   "source": [
    "data.dropna(inplace=True)"
   ]
  },
  {
   "cell_type": "code",
   "execution_count": 120,
   "id": "26a53a79",
   "metadata": {},
   "outputs": [
    {
     "data": {
      "text/plain": [
       "Age                        0\n",
       "BusinessTravel             0\n",
       "Department                 0\n",
       "DistanceFromHome           0\n",
       "EducationField             0\n",
       "EnvironmentSatisfaction    0\n",
       "Gender                     0\n",
       "JobInvolvement             0\n",
       "JobLevel                   0\n",
       "JobRole                    0\n",
       "JobSatisfaction            0\n",
       "NumCompaniesWorked         0\n",
       "Date                       0\n",
       "OverTime                   0\n",
       "PercentSalaryHike          0\n",
       "PerformanceRating          0\n",
       "YearsAtCompany             0\n",
       "MonthlyIncome              0\n",
       "Attrition                  0\n",
       "dtype: int64"
      ]
     },
     "execution_count": 120,
     "metadata": {},
     "output_type": "execute_result"
    }
   ],
   "source": [
    "data.isnull().sum()"
   ]
  },
  {
   "cell_type": "code",
   "execution_count": 121,
   "id": "5408a7ee",
   "metadata": {},
   "outputs": [
    {
     "data": {
      "text/plain": [
       "(20759, 19)"
      ]
     },
     "execution_count": 121,
     "metadata": {},
     "output_type": "execute_result"
    }
   ],
   "source": [
    "data.shape"
   ]
  },
  {
   "cell_type": "code",
   "execution_count": 122,
   "id": "fbe98239",
   "metadata": {},
   "outputs": [],
   "source": [
    "data[\"DistanceFromHome\"]=data[\"DistanceFromHome\"].replace(\"[\\$?]\",\"\",regex=True).astype(float)\n",
    "data[\"EnvironmentSatisfaction\"]=data[\"EnvironmentSatisfaction\"].replace(\"[\\$?]\",\"\",regex=True).astype(float)\n",
    "data[\"JobSatisfaction\"]=data[\"JobSatisfaction\"].replace(\"[\\$?]\",\"\",regex=True).astype(float)\n",
    "data[\"NumCompaniesWorked\"]=data[\"NumCompaniesWorked\"].replace(\"[\\$?]\",\"\",regex=True).astype(float)\n",
    "data[\"PerformanceRating\"]=data[\"PerformanceRating\"].replace(\"[\\$?]\",\"\",regex=True).astype(float)\n",
    "data[\"MonthlyIncome\"]=data[\"MonthlyIncome\"].replace(\"[\\$?]\",\"\",regex=True).astype(float)\n",
    "data[\"PercentSalaryHike\"]=data[\"MonthlyIncome\"].replace(\"[\\$?]\",\"\",regex=True).astype(float)"
   ]
  },
  {
   "cell_type": "code",
   "execution_count": 129,
   "id": "51828bcc",
   "metadata": {},
   "outputs": [
    {
     "data": {
      "text/plain": [
       "Index(['Age', 'BusinessTravel', 'Department', 'DistanceFromHome',\n",
       "       'EducationField', 'EnvironmentSatisfaction', 'Gender', 'JobInvolvement',\n",
       "       'JobLevel', 'JobRole', 'JobSatisfaction', 'NumCompaniesWorked', 'Date',\n",
       "       'OverTime', 'PercentSalaryHike', 'PerformanceRating', 'YearsAtCompany',\n",
       "       'MonthlyIncome', 'Attrition'],\n",
       "      dtype='object')"
      ]
     },
     "execution_count": 129,
     "metadata": {},
     "output_type": "execute_result"
    }
   ],
   "source": [
    "data.columns"
   ]
  },
  {
   "cell_type": "code",
   "execution_count": 123,
   "id": "8c06db16",
   "metadata": {},
   "outputs": [
    {
     "name": "stdout",
     "output_type": "stream",
     "text": [
      "<class 'pandas.core.frame.DataFrame'>\n",
      "Int64Index: 20759 entries, 0 to 21380\n",
      "Data columns (total 19 columns):\n",
      " #   Column                   Non-Null Count  Dtype  \n",
      "---  ------                   --------------  -----  \n",
      " 0   Age                      20759 non-null  float64\n",
      " 1   BusinessTravel           20759 non-null  object \n",
      " 2   Department               20759 non-null  object \n",
      " 3   DistanceFromHome         20759 non-null  float64\n",
      " 4   EducationField           20759 non-null  object \n",
      " 5   EnvironmentSatisfaction  20759 non-null  float64\n",
      " 6   Gender                   20759 non-null  object \n",
      " 7   JobInvolvement           20759 non-null  float64\n",
      " 8   JobLevel                 20759 non-null  float64\n",
      " 9   JobRole                  20759 non-null  object \n",
      " 10  JobSatisfaction          20759 non-null  float64\n",
      " 11  NumCompaniesWorked       20759 non-null  float64\n",
      " 12  Date                     20759 non-null  object \n",
      " 13  OverTime                 20759 non-null  object \n",
      " 14  PercentSalaryHike        20759 non-null  object \n",
      " 15  PerformanceRating        20759 non-null  float64\n",
      " 16  YearsAtCompany           20759 non-null  float64\n",
      " 17  MonthlyIncome            20759 non-null  float64\n",
      " 18  Attrition                20759 non-null  object \n",
      "dtypes: float64(10), object(9)\n",
      "memory usage: 3.2+ MB\n"
     ]
    }
   ],
   "source": [
    "data.info()"
   ]
  },
  {
   "cell_type": "code",
   "execution_count": 124,
   "id": "9fafcdbe",
   "metadata": {},
   "outputs": [
    {
     "data": {
      "text/plain": [
       "246"
      ]
     },
     "execution_count": 124,
     "metadata": {},
     "output_type": "execute_result"
    }
   ],
   "source": [
    "data.duplicated().sum()"
   ]
  },
  {
   "cell_type": "code",
   "execution_count": 125,
   "id": "11a52da5",
   "metadata": {},
   "outputs": [],
   "source": [
    "data=data.drop_duplicates()"
   ]
  },
  {
   "cell_type": "code",
   "execution_count": 126,
   "id": "0c6114ca",
   "metadata": {},
   "outputs": [
    {
     "data": {
      "text/plain": [
       "0"
      ]
     },
     "execution_count": 126,
     "metadata": {},
     "output_type": "execute_result"
    }
   ],
   "source": [
    "data.duplicated().sum()"
   ]
  },
  {
   "cell_type": "markdown",
   "id": "d417422c",
   "metadata": {},
   "source": [
    "data1 = data[data[\"Attrition\"] == \"Yes\"]\n"
   ]
  },
  {
   "cell_type": "markdown",
   "id": "3986b689",
   "metadata": {},
   "source": [
    "mean_age = data1[\"Age\"].mean()\n",
    "mean_income = data1[\"MonthlyIncome\"].mean() \n",
    "mean_hike =data1 [\"PercentSalaryHike\"].mean() \n",
    "mean_rating = data1[\"PerformanceRating\"].mean()"
   ]
  },
  {
   "cell_type": "markdown",
   "id": "57421246",
   "metadata": {},
   "source": [
    "df_mean = pd.DataFrame({‘Age’: [mean_age], ‘MonthlyIncome’: [mean_income], ‘PercentSalaryHike’: [mean_hike], ‘PerformanceRating’: [mean_rating]})"
   ]
  },
  {
   "cell_type": "code",
   "execution_count": 104,
   "id": "6a4afd11",
   "metadata": {},
   "outputs": [
    {
     "data": {
      "text/plain": [
       "Index(['Age', 'BusinessTravel', 'Department', 'DistanceFromHome',\n",
       "       'EducationField', 'EnvironmentSatisfaction', 'Gender', 'JobInvolvement',\n",
       "       'JobLevel', 'JobRole', 'JobSatisfaction', 'NumCompaniesWorked', 'Date',\n",
       "       'OverTime', 'PercentSalaryHike', 'PerformanceRating', 'YearsAtCompany',\n",
       "       'MonthlyIncome', 'Attrition'],\n",
       "      dtype='object')"
      ]
     },
     "execution_count": 104,
     "metadata": {},
     "output_type": "execute_result"
    }
   ],
   "source": [
    "data.columns"
   ]
  },
  {
   "cell_type": "markdown",
   "id": "4ea76729",
   "metadata": {},
   "source": [
    "mean_age = data1[\"Age\"].mean()"
   ]
  },
  {
   "cell_type": "code",
   "execution_count": 128,
   "id": "4fb6a5fd",
   "metadata": {},
   "outputs": [
    {
     "data": {
      "text/plain": [
       "Age                    30.238029\n",
       "MonthlyIncome        7475.428172\n",
       "PerformanceRating       1.801875\n",
       "Name: Yes, dtype: float64"
      ]
     },
     "execution_count": 128,
     "metadata": {},
     "output_type": "execute_result"
    }
   ],
   "source": [
    "data1=data.groupby(\"Attrition\")[\"Age\",\"MonthlyIncome\",\"PercentSalaryHike\",\"PerformanceRating\"].mean()\n",
    "data1.loc[\"Yes\"]"
   ]
  },
  {
   "cell_type": "code",
   "execution_count": 130,
   "id": "457471b6",
   "metadata": {},
   "outputs": [],
   "source": [
    "data[\"ratio_years\"]=data[\"YearsAtCompany\"]/data[\"NumCompaniesWorked\"]"
   ]
  },
  {
   "cell_type": "code",
   "execution_count": 131,
   "id": "cedae09f",
   "metadata": {},
   "outputs": [
    {
     "data": {
      "text/plain": [
       "0        10.000000\n",
       "1        14.000000\n",
       "2         1.666667\n",
       "3         0.166667\n",
       "4         1.000000\n",
       "           ...    \n",
       "21125    17.000000\n",
       "21126     1.714286\n",
       "21127     1.600000\n",
       "21128     1.500000\n",
       "21129     1.800000\n",
       "Name: ratio_years, Length: 20513, dtype: float64"
      ]
     },
     "execution_count": 131,
     "metadata": {},
     "output_type": "execute_result"
    }
   ],
   "source": [
    "data[\"ratio_years\"]"
   ]
  },
  {
   "cell_type": "code",
   "execution_count": null,
   "id": "900de6ed",
   "metadata": {},
   "outputs": [],
   "source": []
  }
 ],
 "metadata": {
  "kernelspec": {
   "display_name": "Python 3 (ipykernel)",
   "language": "python",
   "name": "python3"
  },
  "language_info": {
   "codemirror_mode": {
    "name": "ipython",
    "version": 3
   },
   "file_extension": ".py",
   "mimetype": "text/x-python",
   "name": "python",
   "nbconvert_exporter": "python",
   "pygments_lexer": "ipython3",
   "version": "3.11.3"
  }
 },
 "nbformat": 4,
 "nbformat_minor": 5
}
