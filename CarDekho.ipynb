{
 "cells": [
  {
   "cell_type": "code",
   "execution_count": 1,
   "id": "7c4bf176",
   "metadata": {},
   "outputs": [],
   "source": [
    "import pandas as pd\n",
    "import numpy as np\n",
    "import matplotlib.pyplot as plt\n",
    "import seaborn as sns\n",
    "import plotly.express as px\n",
    "import warnings\n",
    "warnings.filterwarnings(\"ignore\")\n",
    "from six.moves import urllib\n",
    "%matplotlib inline"
   ]
  },
  {
   "cell_type": "code",
   "execution_count": 2,
   "id": "576ffe44",
   "metadata": {},
   "outputs": [],
   "source": [
    "data=pd.read_csv(\"Cardekho_Dataset.csv\")"
   ]
  },
  {
   "cell_type": "code",
   "execution_count": 3,
   "id": "9c78d2a3",
   "metadata": {},
   "outputs": [
    {
     "data": {
      "text/html": [
       "<div>\n",
       "<style scoped>\n",
       "    .dataframe tbody tr th:only-of-type {\n",
       "        vertical-align: middle;\n",
       "    }\n",
       "\n",
       "    .dataframe tbody tr th {\n",
       "        vertical-align: top;\n",
       "    }\n",
       "\n",
       "    .dataframe thead th {\n",
       "        text-align: right;\n",
       "    }\n",
       "</style>\n",
       "<table border=\"1\" class=\"dataframe\">\n",
       "  <thead>\n",
       "    <tr style=\"text-align: right;\">\n",
       "      <th></th>\n",
       "      <th>Unnamed: 0</th>\n",
       "      <th>car_name</th>\n",
       "      <th>brand</th>\n",
       "      <th>model</th>\n",
       "      <th>vehicle_age</th>\n",
       "      <th>km_driven</th>\n",
       "      <th>seller_type</th>\n",
       "      <th>fuel_type</th>\n",
       "      <th>transmission_type</th>\n",
       "      <th>mileage</th>\n",
       "      <th>engine</th>\n",
       "      <th>max_power</th>\n",
       "      <th>seats</th>\n",
       "      <th>selling_price</th>\n",
       "    </tr>\n",
       "  </thead>\n",
       "  <tbody>\n",
       "    <tr>\n",
       "      <th>0</th>\n",
       "      <td>0</td>\n",
       "      <td>Maruti Alto</td>\n",
       "      <td>Maruti</td>\n",
       "      <td>Alto</td>\n",
       "      <td>9</td>\n",
       "      <td>120000</td>\n",
       "      <td>Individual</td>\n",
       "      <td>Petrol</td>\n",
       "      <td>Manual</td>\n",
       "      <td>19.70</td>\n",
       "      <td>796</td>\n",
       "      <td>46.30</td>\n",
       "      <td>5</td>\n",
       "      <td>120000</td>\n",
       "    </tr>\n",
       "    <tr>\n",
       "      <th>1</th>\n",
       "      <td>1</td>\n",
       "      <td>Hyundai Grand</td>\n",
       "      <td>Hyundai</td>\n",
       "      <td>Grand</td>\n",
       "      <td>5</td>\n",
       "      <td>20000</td>\n",
       "      <td>Individual</td>\n",
       "      <td>Petrol</td>\n",
       "      <td>Manual</td>\n",
       "      <td>18.90</td>\n",
       "      <td>1197</td>\n",
       "      <td>82.00</td>\n",
       "      <td>5</td>\n",
       "      <td>550000</td>\n",
       "    </tr>\n",
       "    <tr>\n",
       "      <th>2</th>\n",
       "      <td>2</td>\n",
       "      <td>Hyundai i20</td>\n",
       "      <td>Hyundai</td>\n",
       "      <td>i20</td>\n",
       "      <td>11</td>\n",
       "      <td>60000</td>\n",
       "      <td>Individual</td>\n",
       "      <td>Petrol</td>\n",
       "      <td>Manual</td>\n",
       "      <td>17.00</td>\n",
       "      <td>1197</td>\n",
       "      <td>80.00</td>\n",
       "      <td>5</td>\n",
       "      <td>215000</td>\n",
       "    </tr>\n",
       "    <tr>\n",
       "      <th>3</th>\n",
       "      <td>3</td>\n",
       "      <td>Maruti Alto</td>\n",
       "      <td>Maruti</td>\n",
       "      <td>Alto</td>\n",
       "      <td>9</td>\n",
       "      <td>37000</td>\n",
       "      <td>Individual</td>\n",
       "      <td>Petrol</td>\n",
       "      <td>Manual</td>\n",
       "      <td>20.92</td>\n",
       "      <td>998</td>\n",
       "      <td>67.10</td>\n",
       "      <td>5</td>\n",
       "      <td>226000</td>\n",
       "    </tr>\n",
       "    <tr>\n",
       "      <th>4</th>\n",
       "      <td>4</td>\n",
       "      <td>Ford Ecosport</td>\n",
       "      <td>Ford</td>\n",
       "      <td>Ecosport</td>\n",
       "      <td>6</td>\n",
       "      <td>30000</td>\n",
       "      <td>Dealer</td>\n",
       "      <td>Diesel</td>\n",
       "      <td>Manual</td>\n",
       "      <td>22.77</td>\n",
       "      <td>1498</td>\n",
       "      <td>98.59</td>\n",
       "      <td>5</td>\n",
       "      <td>570000</td>\n",
       "    </tr>\n",
       "  </tbody>\n",
       "</table>\n",
       "</div>"
      ],
      "text/plain": [
       "   Unnamed: 0       car_name    brand     model  vehicle_age  km_driven  \\\n",
       "0           0    Maruti Alto   Maruti      Alto            9     120000   \n",
       "1           1  Hyundai Grand  Hyundai     Grand            5      20000   \n",
       "2           2    Hyundai i20  Hyundai       i20           11      60000   \n",
       "3           3    Maruti Alto   Maruti      Alto            9      37000   \n",
       "4           4  Ford Ecosport     Ford  Ecosport            6      30000   \n",
       "\n",
       "  seller_type fuel_type transmission_type  mileage  engine  max_power  seats  \\\n",
       "0  Individual    Petrol            Manual    19.70     796      46.30      5   \n",
       "1  Individual    Petrol            Manual    18.90    1197      82.00      5   \n",
       "2  Individual    Petrol            Manual    17.00    1197      80.00      5   \n",
       "3  Individual    Petrol            Manual    20.92     998      67.10      5   \n",
       "4      Dealer    Diesel            Manual    22.77    1498      98.59      5   \n",
       "\n",
       "   selling_price  \n",
       "0         120000  \n",
       "1         550000  \n",
       "2         215000  \n",
       "3         226000  \n",
       "4         570000  "
      ]
     },
     "execution_count": 3,
     "metadata": {},
     "output_type": "execute_result"
    }
   ],
   "source": [
    "data.head()"
   ]
  },
  {
   "cell_type": "code",
   "execution_count": 4,
   "id": "fe9f0764",
   "metadata": {},
   "outputs": [],
   "source": [
    "data.drop(\"Unnamed: 0\",axis=1,inplace=True)"
   ]
  },
  {
   "cell_type": "code",
   "execution_count": 5,
   "id": "d291162a",
   "metadata": {},
   "outputs": [
    {
     "data": {
      "text/html": [
       "<div>\n",
       "<style scoped>\n",
       "    .dataframe tbody tr th:only-of-type {\n",
       "        vertical-align: middle;\n",
       "    }\n",
       "\n",
       "    .dataframe tbody tr th {\n",
       "        vertical-align: top;\n",
       "    }\n",
       "\n",
       "    .dataframe thead th {\n",
       "        text-align: right;\n",
       "    }\n",
       "</style>\n",
       "<table border=\"1\" class=\"dataframe\">\n",
       "  <thead>\n",
       "    <tr style=\"text-align: right;\">\n",
       "      <th></th>\n",
       "      <th>car_name</th>\n",
       "      <th>brand</th>\n",
       "      <th>model</th>\n",
       "      <th>vehicle_age</th>\n",
       "      <th>km_driven</th>\n",
       "      <th>seller_type</th>\n",
       "      <th>fuel_type</th>\n",
       "      <th>transmission_type</th>\n",
       "      <th>mileage</th>\n",
       "      <th>engine</th>\n",
       "      <th>max_power</th>\n",
       "      <th>seats</th>\n",
       "      <th>selling_price</th>\n",
       "    </tr>\n",
       "  </thead>\n",
       "  <tbody>\n",
       "    <tr>\n",
       "      <th>0</th>\n",
       "      <td>Maruti Alto</td>\n",
       "      <td>Maruti</td>\n",
       "      <td>Alto</td>\n",
       "      <td>9</td>\n",
       "      <td>120000</td>\n",
       "      <td>Individual</td>\n",
       "      <td>Petrol</td>\n",
       "      <td>Manual</td>\n",
       "      <td>19.70</td>\n",
       "      <td>796</td>\n",
       "      <td>46.30</td>\n",
       "      <td>5</td>\n",
       "      <td>120000</td>\n",
       "    </tr>\n",
       "    <tr>\n",
       "      <th>1</th>\n",
       "      <td>Hyundai Grand</td>\n",
       "      <td>Hyundai</td>\n",
       "      <td>Grand</td>\n",
       "      <td>5</td>\n",
       "      <td>20000</td>\n",
       "      <td>Individual</td>\n",
       "      <td>Petrol</td>\n",
       "      <td>Manual</td>\n",
       "      <td>18.90</td>\n",
       "      <td>1197</td>\n",
       "      <td>82.00</td>\n",
       "      <td>5</td>\n",
       "      <td>550000</td>\n",
       "    </tr>\n",
       "    <tr>\n",
       "      <th>2</th>\n",
       "      <td>Hyundai i20</td>\n",
       "      <td>Hyundai</td>\n",
       "      <td>i20</td>\n",
       "      <td>11</td>\n",
       "      <td>60000</td>\n",
       "      <td>Individual</td>\n",
       "      <td>Petrol</td>\n",
       "      <td>Manual</td>\n",
       "      <td>17.00</td>\n",
       "      <td>1197</td>\n",
       "      <td>80.00</td>\n",
       "      <td>5</td>\n",
       "      <td>215000</td>\n",
       "    </tr>\n",
       "    <tr>\n",
       "      <th>3</th>\n",
       "      <td>Maruti Alto</td>\n",
       "      <td>Maruti</td>\n",
       "      <td>Alto</td>\n",
       "      <td>9</td>\n",
       "      <td>37000</td>\n",
       "      <td>Individual</td>\n",
       "      <td>Petrol</td>\n",
       "      <td>Manual</td>\n",
       "      <td>20.92</td>\n",
       "      <td>998</td>\n",
       "      <td>67.10</td>\n",
       "      <td>5</td>\n",
       "      <td>226000</td>\n",
       "    </tr>\n",
       "    <tr>\n",
       "      <th>4</th>\n",
       "      <td>Ford Ecosport</td>\n",
       "      <td>Ford</td>\n",
       "      <td>Ecosport</td>\n",
       "      <td>6</td>\n",
       "      <td>30000</td>\n",
       "      <td>Dealer</td>\n",
       "      <td>Diesel</td>\n",
       "      <td>Manual</td>\n",
       "      <td>22.77</td>\n",
       "      <td>1498</td>\n",
       "      <td>98.59</td>\n",
       "      <td>5</td>\n",
       "      <td>570000</td>\n",
       "    </tr>\n",
       "  </tbody>\n",
       "</table>\n",
       "</div>"
      ],
      "text/plain": [
       "        car_name    brand     model  vehicle_age  km_driven seller_type  \\\n",
       "0    Maruti Alto   Maruti      Alto            9     120000  Individual   \n",
       "1  Hyundai Grand  Hyundai     Grand            5      20000  Individual   \n",
       "2    Hyundai i20  Hyundai       i20           11      60000  Individual   \n",
       "3    Maruti Alto   Maruti      Alto            9      37000  Individual   \n",
       "4  Ford Ecosport     Ford  Ecosport            6      30000      Dealer   \n",
       "\n",
       "  fuel_type transmission_type  mileage  engine  max_power  seats  \\\n",
       "0    Petrol            Manual    19.70     796      46.30      5   \n",
       "1    Petrol            Manual    18.90    1197      82.00      5   \n",
       "2    Petrol            Manual    17.00    1197      80.00      5   \n",
       "3    Petrol            Manual    20.92     998      67.10      5   \n",
       "4    Diesel            Manual    22.77    1498      98.59      5   \n",
       "\n",
       "   selling_price  \n",
       "0         120000  \n",
       "1         550000  \n",
       "2         215000  \n",
       "3         226000  \n",
       "4         570000  "
      ]
     },
     "execution_count": 5,
     "metadata": {},
     "output_type": "execute_result"
    }
   ],
   "source": [
    "data.head()"
   ]
  },
  {
   "cell_type": "code",
   "execution_count": 7,
   "id": "091477cc",
   "metadata": {},
   "outputs": [
    {
     "data": {
      "text/html": [
       "<div>\n",
       "<style scoped>\n",
       "    .dataframe tbody tr th:only-of-type {\n",
       "        vertical-align: middle;\n",
       "    }\n",
       "\n",
       "    .dataframe tbody tr th {\n",
       "        vertical-align: top;\n",
       "    }\n",
       "\n",
       "    .dataframe thead th {\n",
       "        text-align: right;\n",
       "    }\n",
       "</style>\n",
       "<table border=\"1\" class=\"dataframe\">\n",
       "  <thead>\n",
       "    <tr style=\"text-align: right;\">\n",
       "      <th></th>\n",
       "      <th>car_name</th>\n",
       "      <th>brand</th>\n",
       "      <th>model</th>\n",
       "      <th>vehicle_age</th>\n",
       "      <th>km_driven</th>\n",
       "      <th>seller_type</th>\n",
       "      <th>fuel_type</th>\n",
       "      <th>transmission_type</th>\n",
       "      <th>mileage</th>\n",
       "      <th>engine</th>\n",
       "      <th>max_power</th>\n",
       "      <th>seats</th>\n",
       "      <th>selling_price</th>\n",
       "    </tr>\n",
       "  </thead>\n",
       "  <tbody>\n",
       "    <tr>\n",
       "      <th>0</th>\n",
       "      <td>Maruti Alto</td>\n",
       "      <td>Maruti</td>\n",
       "      <td>Alto</td>\n",
       "      <td>9</td>\n",
       "      <td>120000</td>\n",
       "      <td>Individual</td>\n",
       "      <td>Petrol</td>\n",
       "      <td>Manual</td>\n",
       "      <td>19.70</td>\n",
       "      <td>796</td>\n",
       "      <td>46.30</td>\n",
       "      <td>5</td>\n",
       "      <td>120000</td>\n",
       "    </tr>\n",
       "    <tr>\n",
       "      <th>1</th>\n",
       "      <td>Hyundai Grand</td>\n",
       "      <td>Hyundai</td>\n",
       "      <td>Grand</td>\n",
       "      <td>5</td>\n",
       "      <td>20000</td>\n",
       "      <td>Individual</td>\n",
       "      <td>Petrol</td>\n",
       "      <td>Manual</td>\n",
       "      <td>18.90</td>\n",
       "      <td>1197</td>\n",
       "      <td>82.00</td>\n",
       "      <td>5</td>\n",
       "      <td>550000</td>\n",
       "    </tr>\n",
       "    <tr>\n",
       "      <th>2</th>\n",
       "      <td>Hyundai i20</td>\n",
       "      <td>Hyundai</td>\n",
       "      <td>i20</td>\n",
       "      <td>11</td>\n",
       "      <td>60000</td>\n",
       "      <td>Individual</td>\n",
       "      <td>Petrol</td>\n",
       "      <td>Manual</td>\n",
       "      <td>17.00</td>\n",
       "      <td>1197</td>\n",
       "      <td>80.00</td>\n",
       "      <td>5</td>\n",
       "      <td>215000</td>\n",
       "    </tr>\n",
       "    <tr>\n",
       "      <th>3</th>\n",
       "      <td>Maruti Alto</td>\n",
       "      <td>Maruti</td>\n",
       "      <td>Alto</td>\n",
       "      <td>9</td>\n",
       "      <td>37000</td>\n",
       "      <td>Individual</td>\n",
       "      <td>Petrol</td>\n",
       "      <td>Manual</td>\n",
       "      <td>20.92</td>\n",
       "      <td>998</td>\n",
       "      <td>67.10</td>\n",
       "      <td>5</td>\n",
       "      <td>226000</td>\n",
       "    </tr>\n",
       "    <tr>\n",
       "      <th>4</th>\n",
       "      <td>Ford Ecosport</td>\n",
       "      <td>Ford</td>\n",
       "      <td>Ecosport</td>\n",
       "      <td>6</td>\n",
       "      <td>30000</td>\n",
       "      <td>Dealer</td>\n",
       "      <td>Diesel</td>\n",
       "      <td>Manual</td>\n",
       "      <td>22.77</td>\n",
       "      <td>1498</td>\n",
       "      <td>98.59</td>\n",
       "      <td>5</td>\n",
       "      <td>570000</td>\n",
       "    </tr>\n",
       "    <tr>\n",
       "      <th>...</th>\n",
       "      <td>...</td>\n",
       "      <td>...</td>\n",
       "      <td>...</td>\n",
       "      <td>...</td>\n",
       "      <td>...</td>\n",
       "      <td>...</td>\n",
       "      <td>...</td>\n",
       "      <td>...</td>\n",
       "      <td>...</td>\n",
       "      <td>...</td>\n",
       "      <td>...</td>\n",
       "      <td>...</td>\n",
       "      <td>...</td>\n",
       "    </tr>\n",
       "    <tr>\n",
       "      <th>15406</th>\n",
       "      <td>Hyundai i10</td>\n",
       "      <td>Hyundai</td>\n",
       "      <td>i10</td>\n",
       "      <td>9</td>\n",
       "      <td>10723</td>\n",
       "      <td>Dealer</td>\n",
       "      <td>Petrol</td>\n",
       "      <td>Manual</td>\n",
       "      <td>19.81</td>\n",
       "      <td>1086</td>\n",
       "      <td>68.05</td>\n",
       "      <td>5</td>\n",
       "      <td>250000</td>\n",
       "    </tr>\n",
       "    <tr>\n",
       "      <th>15407</th>\n",
       "      <td>Maruti Ertiga</td>\n",
       "      <td>Maruti</td>\n",
       "      <td>Ertiga</td>\n",
       "      <td>2</td>\n",
       "      <td>18000</td>\n",
       "      <td>Dealer</td>\n",
       "      <td>Petrol</td>\n",
       "      <td>Manual</td>\n",
       "      <td>17.50</td>\n",
       "      <td>1373</td>\n",
       "      <td>91.10</td>\n",
       "      <td>7</td>\n",
       "      <td>925000</td>\n",
       "    </tr>\n",
       "    <tr>\n",
       "      <th>15408</th>\n",
       "      <td>Skoda Rapid</td>\n",
       "      <td>Skoda</td>\n",
       "      <td>Rapid</td>\n",
       "      <td>6</td>\n",
       "      <td>67000</td>\n",
       "      <td>Dealer</td>\n",
       "      <td>Diesel</td>\n",
       "      <td>Manual</td>\n",
       "      <td>21.14</td>\n",
       "      <td>1498</td>\n",
       "      <td>103.52</td>\n",
       "      <td>5</td>\n",
       "      <td>425000</td>\n",
       "    </tr>\n",
       "    <tr>\n",
       "      <th>15409</th>\n",
       "      <td>Mahindra XUV500</td>\n",
       "      <td>Mahindra</td>\n",
       "      <td>XUV500</td>\n",
       "      <td>5</td>\n",
       "      <td>3800000</td>\n",
       "      <td>Dealer</td>\n",
       "      <td>Diesel</td>\n",
       "      <td>Manual</td>\n",
       "      <td>16.00</td>\n",
       "      <td>2179</td>\n",
       "      <td>140.00</td>\n",
       "      <td>7</td>\n",
       "      <td>1225000</td>\n",
       "    </tr>\n",
       "    <tr>\n",
       "      <th>15410</th>\n",
       "      <td>Honda City</td>\n",
       "      <td>Honda</td>\n",
       "      <td>City</td>\n",
       "      <td>2</td>\n",
       "      <td>13000</td>\n",
       "      <td>Dealer</td>\n",
       "      <td>Petrol</td>\n",
       "      <td>Automatic</td>\n",
       "      <td>18.00</td>\n",
       "      <td>1497</td>\n",
       "      <td>117.60</td>\n",
       "      <td>5</td>\n",
       "      <td>1200000</td>\n",
       "    </tr>\n",
       "  </tbody>\n",
       "</table>\n",
       "<p>15411 rows × 13 columns</p>\n",
       "</div>"
      ],
      "text/plain": [
       "              car_name     brand     model  vehicle_age  km_driven  \\\n",
       "0          Maruti Alto    Maruti      Alto            9     120000   \n",
       "1        Hyundai Grand   Hyundai     Grand            5      20000   \n",
       "2          Hyundai i20   Hyundai       i20           11      60000   \n",
       "3          Maruti Alto    Maruti      Alto            9      37000   \n",
       "4        Ford Ecosport      Ford  Ecosport            6      30000   \n",
       "...                ...       ...       ...          ...        ...   \n",
       "15406      Hyundai i10   Hyundai       i10            9      10723   \n",
       "15407    Maruti Ertiga    Maruti    Ertiga            2      18000   \n",
       "15408      Skoda Rapid     Skoda     Rapid            6      67000   \n",
       "15409  Mahindra XUV500  Mahindra    XUV500            5    3800000   \n",
       "15410       Honda City     Honda      City            2      13000   \n",
       "\n",
       "      seller_type fuel_type transmission_type  mileage  engine  max_power  \\\n",
       "0      Individual    Petrol            Manual    19.70     796      46.30   \n",
       "1      Individual    Petrol            Manual    18.90    1197      82.00   \n",
       "2      Individual    Petrol            Manual    17.00    1197      80.00   \n",
       "3      Individual    Petrol            Manual    20.92     998      67.10   \n",
       "4          Dealer    Diesel            Manual    22.77    1498      98.59   \n",
       "...           ...       ...               ...      ...     ...        ...   \n",
       "15406      Dealer    Petrol            Manual    19.81    1086      68.05   \n",
       "15407      Dealer    Petrol            Manual    17.50    1373      91.10   \n",
       "15408      Dealer    Diesel            Manual    21.14    1498     103.52   \n",
       "15409      Dealer    Diesel            Manual    16.00    2179     140.00   \n",
       "15410      Dealer    Petrol         Automatic    18.00    1497     117.60   \n",
       "\n",
       "       seats  selling_price  \n",
       "0          5         120000  \n",
       "1          5         550000  \n",
       "2          5         215000  \n",
       "3          5         226000  \n",
       "4          5         570000  \n",
       "...      ...            ...  \n",
       "15406      5         250000  \n",
       "15407      7         925000  \n",
       "15408      5         425000  \n",
       "15409      7        1225000  \n",
       "15410      5        1200000  \n",
       "\n",
       "[15411 rows x 13 columns]"
      ]
     },
     "execution_count": 7,
     "metadata": {},
     "output_type": "execute_result"
    }
   ],
   "source": [
    "data"
   ]
  },
  {
   "cell_type": "markdown",
   "id": "610fa4b8",
   "metadata": {},
   "source": [
    "To take brand name"
   ]
  },
  {
   "cell_type": "code",
   "execution_count": 12,
   "id": "45ba8985",
   "metadata": {},
   "outputs": [
    {
     "data": {
      "text/plain": [
       "0          Maruti\n",
       "1         Hyundai\n",
       "2         Hyundai\n",
       "3          Maruti\n",
       "4            Ford\n",
       "           ...   \n",
       "15406     Hyundai\n",
       "15407      Maruti\n",
       "15408       Skoda\n",
       "15409    Mahindra\n",
       "15410       Honda\n",
       "Name: car_name, Length: 15411, dtype: object"
      ]
     },
     "execution_count": 12,
     "metadata": {},
     "output_type": "execute_result"
    }
   ],
   "source": [
    "def brand(name):\n",
    "    return name.split(\" \")[0]\n",
    "data[\"car_name\"].apply(brand)"
   ]
  },
  {
   "cell_type": "markdown",
   "id": "e2600da8",
   "metadata": {},
   "source": [
    "To take model name"
   ]
  },
  {
   "cell_type": "code",
   "execution_count": 13,
   "id": "d3dfe8a3",
   "metadata": {},
   "outputs": [
    {
     "data": {
      "text/plain": [
       "0            Alto\n",
       "1           Grand\n",
       "2             i20\n",
       "3            Alto\n",
       "4        Ecosport\n",
       "           ...   \n",
       "15406         i10\n",
       "15407      Ertiga\n",
       "15408       Rapid\n",
       "15409      XUV500\n",
       "15410        City\n",
       "Name: car_name, Length: 15411, dtype: object"
      ]
     },
     "execution_count": 13,
     "metadata": {},
     "output_type": "execute_result"
    }
   ],
   "source": [
    "def brand(name):\n",
    "    return name.split(\" \")[1]\n",
    "data[\"car_name\"].apply(brand)"
   ]
  },
  {
   "cell_type": "code",
   "execution_count": 65,
   "id": "3ae886b3",
   "metadata": {},
   "outputs": [
    {
     "data": {
      "text/plain": [
       "Index(['car_name', 'brand', 'model', 'vehicle_age', 'km_driven', 'seller_type',\n",
       "       'fuel_type', 'transmission_type', 'mileage', 'engine', 'max_power',\n",
       "       'seats', 'selling_price'],\n",
       "      dtype='object')"
      ]
     },
     "execution_count": 65,
     "metadata": {},
     "output_type": "execute_result"
    }
   ],
   "source": [
    "data.columns"
   ]
  },
  {
   "cell_type": "code",
   "execution_count": 14,
   "id": "881a5e20",
   "metadata": {},
   "outputs": [
    {
     "data": {
      "text/plain": [
       "car_name              object\n",
       "brand                 object\n",
       "model                 object\n",
       "vehicle_age            int64\n",
       "km_driven              int64\n",
       "seller_type           object\n",
       "fuel_type             object\n",
       "transmission_type     object\n",
       "mileage              float64\n",
       "engine                 int64\n",
       "max_power            float64\n",
       "seats                  int64\n",
       "selling_price          int64\n",
       "dtype: object"
      ]
     },
     "execution_count": 14,
     "metadata": {},
     "output_type": "execute_result"
    }
   ],
   "source": [
    "data.dtypes"
   ]
  },
  {
   "cell_type": "code",
   "execution_count": 15,
   "id": "5811cf40",
   "metadata": {},
   "outputs": [
    {
     "data": {
      "text/plain": [
       "(15411, 13)"
      ]
     },
     "execution_count": 15,
     "metadata": {},
     "output_type": "execute_result"
    }
   ],
   "source": [
    "data.shape"
   ]
  },
  {
   "cell_type": "code",
   "execution_count": 16,
   "id": "3c1d1f1d",
   "metadata": {},
   "outputs": [
    {
     "data": {
      "text/plain": [
       "RangeIndex(start=0, stop=15411, step=1)"
      ]
     },
     "execution_count": 16,
     "metadata": {},
     "output_type": "execute_result"
    }
   ],
   "source": [
    "data.index"
   ]
  },
  {
   "cell_type": "code",
   "execution_count": 19,
   "id": "99f87701",
   "metadata": {},
   "outputs": [
    {
     "data": {
      "text/html": [
       "<div>\n",
       "<style scoped>\n",
       "    .dataframe tbody tr th:only-of-type {\n",
       "        vertical-align: middle;\n",
       "    }\n",
       "\n",
       "    .dataframe tbody tr th {\n",
       "        vertical-align: top;\n",
       "    }\n",
       "\n",
       "    .dataframe thead th {\n",
       "        text-align: right;\n",
       "    }\n",
       "</style>\n",
       "<table border=\"1\" class=\"dataframe\">\n",
       "  <thead>\n",
       "    <tr style=\"text-align: right;\">\n",
       "      <th></th>\n",
       "      <th>count</th>\n",
       "      <th>mean</th>\n",
       "      <th>std</th>\n",
       "      <th>min</th>\n",
       "      <th>25%</th>\n",
       "      <th>50%</th>\n",
       "      <th>75%</th>\n",
       "      <th>max</th>\n",
       "    </tr>\n",
       "  </thead>\n",
       "  <tbody>\n",
       "    <tr>\n",
       "      <th>vehicle_age</th>\n",
       "      <td>15411.0</td>\n",
       "      <td>6.036338</td>\n",
       "      <td>3.013291</td>\n",
       "      <td>0.0</td>\n",
       "      <td>4.0</td>\n",
       "      <td>6.00</td>\n",
       "      <td>8.0</td>\n",
       "      <td>29.00</td>\n",
       "    </tr>\n",
       "    <tr>\n",
       "      <th>km_driven</th>\n",
       "      <td>15411.0</td>\n",
       "      <td>55616.480631</td>\n",
       "      <td>51618.548422</td>\n",
       "      <td>100.0</td>\n",
       "      <td>30000.0</td>\n",
       "      <td>50000.00</td>\n",
       "      <td>70000.0</td>\n",
       "      <td>3800000.00</td>\n",
       "    </tr>\n",
       "    <tr>\n",
       "      <th>mileage</th>\n",
       "      <td>15411.0</td>\n",
       "      <td>19.701151</td>\n",
       "      <td>4.171265</td>\n",
       "      <td>4.0</td>\n",
       "      <td>17.0</td>\n",
       "      <td>19.67</td>\n",
       "      <td>22.7</td>\n",
       "      <td>33.54</td>\n",
       "    </tr>\n",
       "    <tr>\n",
       "      <th>engine</th>\n",
       "      <td>15411.0</td>\n",
       "      <td>1486.057751</td>\n",
       "      <td>521.106696</td>\n",
       "      <td>793.0</td>\n",
       "      <td>1197.0</td>\n",
       "      <td>1248.00</td>\n",
       "      <td>1582.0</td>\n",
       "      <td>6592.00</td>\n",
       "    </tr>\n",
       "    <tr>\n",
       "      <th>max_power</th>\n",
       "      <td>15411.0</td>\n",
       "      <td>100.588254</td>\n",
       "      <td>42.972979</td>\n",
       "      <td>38.4</td>\n",
       "      <td>74.0</td>\n",
       "      <td>88.50</td>\n",
       "      <td>117.3</td>\n",
       "      <td>626.00</td>\n",
       "    </tr>\n",
       "    <tr>\n",
       "      <th>seats</th>\n",
       "      <td>15411.0</td>\n",
       "      <td>5.325482</td>\n",
       "      <td>0.807628</td>\n",
       "      <td>0.0</td>\n",
       "      <td>5.0</td>\n",
       "      <td>5.00</td>\n",
       "      <td>5.0</td>\n",
       "      <td>9.00</td>\n",
       "    </tr>\n",
       "    <tr>\n",
       "      <th>selling_price</th>\n",
       "      <td>15411.0</td>\n",
       "      <td>774971.116410</td>\n",
       "      <td>894128.363263</td>\n",
       "      <td>40000.0</td>\n",
       "      <td>385000.0</td>\n",
       "      <td>556000.00</td>\n",
       "      <td>825000.0</td>\n",
       "      <td>39500000.00</td>\n",
       "    </tr>\n",
       "  </tbody>\n",
       "</table>\n",
       "</div>"
      ],
      "text/plain": [
       "                 count           mean            std      min       25%  \\\n",
       "vehicle_age    15411.0       6.036338       3.013291      0.0       4.0   \n",
       "km_driven      15411.0   55616.480631   51618.548422    100.0   30000.0   \n",
       "mileage        15411.0      19.701151       4.171265      4.0      17.0   \n",
       "engine         15411.0    1486.057751     521.106696    793.0    1197.0   \n",
       "max_power      15411.0     100.588254      42.972979     38.4      74.0   \n",
       "seats          15411.0       5.325482       0.807628      0.0       5.0   \n",
       "selling_price  15411.0  774971.116410  894128.363263  40000.0  385000.0   \n",
       "\n",
       "                     50%       75%          max  \n",
       "vehicle_age         6.00       8.0        29.00  \n",
       "km_driven       50000.00   70000.0   3800000.00  \n",
       "mileage            19.67      22.7        33.54  \n",
       "engine           1248.00    1582.0      6592.00  \n",
       "max_power          88.50     117.3       626.00  \n",
       "seats               5.00       5.0         9.00  \n",
       "selling_price  556000.00  825000.0  39500000.00  "
      ]
     },
     "execution_count": 19,
     "metadata": {},
     "output_type": "execute_result"
    }
   ],
   "source": [
    "data.describe().T"
   ]
  },
  {
   "cell_type": "code",
   "execution_count": 21,
   "id": "a53aec82",
   "metadata": {},
   "outputs": [
    {
     "data": {
      "text/html": [
       "<div>\n",
       "<style scoped>\n",
       "    .dataframe tbody tr th:only-of-type {\n",
       "        vertical-align: middle;\n",
       "    }\n",
       "\n",
       "    .dataframe tbody tr th {\n",
       "        vertical-align: top;\n",
       "    }\n",
       "\n",
       "    .dataframe thead th {\n",
       "        text-align: right;\n",
       "    }\n",
       "</style>\n",
       "<table border=\"1\" class=\"dataframe\">\n",
       "  <thead>\n",
       "    <tr style=\"text-align: right;\">\n",
       "      <th></th>\n",
       "      <th>car_name</th>\n",
       "      <th>brand</th>\n",
       "      <th>model</th>\n",
       "      <th>seller_type</th>\n",
       "      <th>fuel_type</th>\n",
       "      <th>transmission_type</th>\n",
       "    </tr>\n",
       "  </thead>\n",
       "  <tbody>\n",
       "    <tr>\n",
       "      <th>count</th>\n",
       "      <td>15411</td>\n",
       "      <td>15411</td>\n",
       "      <td>15411</td>\n",
       "      <td>15411</td>\n",
       "      <td>15411</td>\n",
       "      <td>15411</td>\n",
       "    </tr>\n",
       "    <tr>\n",
       "      <th>unique</th>\n",
       "      <td>121</td>\n",
       "      <td>32</td>\n",
       "      <td>120</td>\n",
       "      <td>3</td>\n",
       "      <td>5</td>\n",
       "      <td>2</td>\n",
       "    </tr>\n",
       "    <tr>\n",
       "      <th>top</th>\n",
       "      <td>Hyundai i20</td>\n",
       "      <td>Maruti</td>\n",
       "      <td>i20</td>\n",
       "      <td>Dealer</td>\n",
       "      <td>Petrol</td>\n",
       "      <td>Manual</td>\n",
       "    </tr>\n",
       "    <tr>\n",
       "      <th>freq</th>\n",
       "      <td>906</td>\n",
       "      <td>4992</td>\n",
       "      <td>906</td>\n",
       "      <td>9539</td>\n",
       "      <td>7643</td>\n",
       "      <td>12225</td>\n",
       "    </tr>\n",
       "  </tbody>\n",
       "</table>\n",
       "</div>"
      ],
      "text/plain": [
       "           car_name   brand  model seller_type fuel_type transmission_type\n",
       "count         15411   15411  15411       15411     15411             15411\n",
       "unique          121      32    120           3         5                 2\n",
       "top     Hyundai i20  Maruti    i20      Dealer    Petrol            Manual\n",
       "freq            906    4992    906        9539      7643             12225"
      ]
     },
     "execution_count": 21,
     "metadata": {},
     "output_type": "execute_result"
    }
   ],
   "source": [
    "data.describe(include=\"object\")"
   ]
  },
  {
   "cell_type": "code",
   "execution_count": 32,
   "id": "a11605c3",
   "metadata": {},
   "outputs": [
    {
     "data": {
      "text/plain": [
       "False    15244\n",
       "True       167\n",
       "dtype: int64"
      ]
     },
     "execution_count": 32,
     "metadata": {},
     "output_type": "execute_result"
    }
   ],
   "source": [
    "data.duplicated().value_counts()"
   ]
  },
  {
   "cell_type": "code",
   "execution_count": 34,
   "id": "a27c22ee",
   "metadata": {},
   "outputs": [],
   "source": [
    "data.drop_duplicates(inplace=True)"
   ]
  },
  {
   "cell_type": "code",
   "execution_count": 41,
   "id": "a8e6efc2",
   "metadata": {},
   "outputs": [
    {
     "data": {
      "text/plain": [
       "False    15244\n",
       "dtype: int64"
      ]
     },
     "execution_count": 41,
     "metadata": {},
     "output_type": "execute_result"
    }
   ],
   "source": [
    "data.duplicated().value_counts()"
   ]
  },
  {
   "cell_type": "code",
   "execution_count": 42,
   "id": "da0aeb18",
   "metadata": {},
   "outputs": [
    {
     "data": {
      "text/plain": [
       "car_name              121\n",
       "brand                  32\n",
       "model                 120\n",
       "vehicle_age            24\n",
       "km_driven            3688\n",
       "seller_type             3\n",
       "fuel_type               5\n",
       "transmission_type       2\n",
       "mileage               411\n",
       "engine                110\n",
       "max_power             342\n",
       "seats                   8\n",
       "selling_price        1086\n",
       "dtype: int64"
      ]
     },
     "execution_count": 42,
     "metadata": {},
     "output_type": "execute_result"
    }
   ],
   "source": [
    "data.nunique()"
   ]
  },
  {
   "cell_type": "code",
   "execution_count": 44,
   "id": "a5c5446f",
   "metadata": {},
   "outputs": [
    {
     "data": {
      "text/plain": [
       "array(['Individual', 'Dealer', 'Trustmark Dealer'], dtype=object)"
      ]
     },
     "execution_count": 44,
     "metadata": {},
     "output_type": "execute_result"
    }
   ],
   "source": [
    "data[\"seller_type\"].unique()"
   ]
  },
  {
   "cell_type": "code",
   "execution_count": 48,
   "id": "8c97edc2",
   "metadata": {
    "scrolled": true
   },
   "outputs": [
    {
     "data": {
      "text/plain": [
       "car_name             0\n",
       "brand                0\n",
       "model                0\n",
       "vehicle_age          0\n",
       "km_driven            0\n",
       "seller_type          0\n",
       "fuel_type            0\n",
       "transmission_type    0\n",
       "mileage              0\n",
       "engine               0\n",
       "max_power            0\n",
       "seats                0\n",
       "selling_price        0\n",
       "dtype: int64"
      ]
     },
     "execution_count": 48,
     "metadata": {},
     "output_type": "execute_result"
    }
   ],
   "source": [
    "data.isnull().sum()"
   ]
  },
  {
   "cell_type": "code",
   "execution_count": 63,
   "id": "f7999f09",
   "metadata": {
    "scrolled": true
   },
   "outputs": [
    {
     "data": {
      "text/html": [
       "<div>\n",
       "<style scoped>\n",
       "    .dataframe tbody tr th:only-of-type {\n",
       "        vertical-align: middle;\n",
       "    }\n",
       "\n",
       "    .dataframe tbody tr th {\n",
       "        vertical-align: top;\n",
       "    }\n",
       "\n",
       "    .dataframe thead th {\n",
       "        text-align: right;\n",
       "    }\n",
       "</style>\n",
       "<table border=\"1\" class=\"dataframe\">\n",
       "  <thead>\n",
       "    <tr style=\"text-align: right;\">\n",
       "      <th></th>\n",
       "      <th>vehicle_age</th>\n",
       "      <th>km_driven</th>\n",
       "      <th>mileage</th>\n",
       "      <th>engine</th>\n",
       "      <th>max_power</th>\n",
       "      <th>seats</th>\n",
       "      <th>selling_price</th>\n",
       "    </tr>\n",
       "  </thead>\n",
       "  <tbody>\n",
       "    <tr>\n",
       "      <th>vehicle_age</th>\n",
       "      <td>1.000000</td>\n",
       "      <td>0.332725</td>\n",
       "      <td>-0.257599</td>\n",
       "      <td>0.098734</td>\n",
       "      <td>0.004356</td>\n",
       "      <td>0.030268</td>\n",
       "      <td>-0.241228</td>\n",
       "    </tr>\n",
       "    <tr>\n",
       "      <th>km_driven</th>\n",
       "      <td>0.332725</td>\n",
       "      <td>1.000000</td>\n",
       "      <td>-0.104979</td>\n",
       "      <td>0.192721</td>\n",
       "      <td>0.044776</td>\n",
       "      <td>0.192026</td>\n",
       "      <td>-0.079548</td>\n",
       "    </tr>\n",
       "    <tr>\n",
       "      <th>mileage</th>\n",
       "      <td>-0.257599</td>\n",
       "      <td>-0.104979</td>\n",
       "      <td>1.000000</td>\n",
       "      <td>-0.632161</td>\n",
       "      <td>-0.532172</td>\n",
       "      <td>-0.439943</td>\n",
       "      <td>-0.305128</td>\n",
       "    </tr>\n",
       "    <tr>\n",
       "      <th>engine</th>\n",
       "      <td>0.098734</td>\n",
       "      <td>0.192721</td>\n",
       "      <td>-0.632161</td>\n",
       "      <td>1.000000</td>\n",
       "      <td>0.807287</td>\n",
       "      <td>0.551401</td>\n",
       "      <td>0.585713</td>\n",
       "    </tr>\n",
       "    <tr>\n",
       "      <th>max_power</th>\n",
       "      <td>0.004356</td>\n",
       "      <td>0.044776</td>\n",
       "      <td>-0.532172</td>\n",
       "      <td>0.807287</td>\n",
       "      <td>1.000000</td>\n",
       "      <td>0.172264</td>\n",
       "      <td>0.751058</td>\n",
       "    </tr>\n",
       "    <tr>\n",
       "      <th>seats</th>\n",
       "      <td>0.030268</td>\n",
       "      <td>0.192026</td>\n",
       "      <td>-0.439943</td>\n",
       "      <td>0.551401</td>\n",
       "      <td>0.172264</td>\n",
       "      <td>1.000000</td>\n",
       "      <td>0.115299</td>\n",
       "    </tr>\n",
       "    <tr>\n",
       "      <th>selling_price</th>\n",
       "      <td>-0.241228</td>\n",
       "      <td>-0.079548</td>\n",
       "      <td>-0.305128</td>\n",
       "      <td>0.585713</td>\n",
       "      <td>0.751058</td>\n",
       "      <td>0.115299</td>\n",
       "      <td>1.000000</td>\n",
       "    </tr>\n",
       "  </tbody>\n",
       "</table>\n",
       "</div>"
      ],
      "text/plain": [
       "               vehicle_age  km_driven   mileage    engine  max_power  \\\n",
       "vehicle_age       1.000000   0.332725 -0.257599  0.098734   0.004356   \n",
       "km_driven         0.332725   1.000000 -0.104979  0.192721   0.044776   \n",
       "mileage          -0.257599  -0.104979  1.000000 -0.632161  -0.532172   \n",
       "engine            0.098734   0.192721 -0.632161  1.000000   0.807287   \n",
       "max_power         0.004356   0.044776 -0.532172  0.807287   1.000000   \n",
       "seats             0.030268   0.192026 -0.439943  0.551401   0.172264   \n",
       "selling_price    -0.241228  -0.079548 -0.305128  0.585713   0.751058   \n",
       "\n",
       "                  seats  selling_price  \n",
       "vehicle_age    0.030268      -0.241228  \n",
       "km_driven      0.192026      -0.079548  \n",
       "mileage       -0.439943      -0.305128  \n",
       "engine         0.551401       0.585713  \n",
       "max_power      0.172264       0.751058  \n",
       "seats          1.000000       0.115299  \n",
       "selling_price  0.115299       1.000000  "
      ]
     },
     "execution_count": 63,
     "metadata": {},
     "output_type": "execute_result"
    }
   ],
   "source": [
    "data.corr()"
   ]
  },
  {
   "cell_type": "code",
   "execution_count": 64,
   "id": "c96094d5",
   "metadata": {},
   "outputs": [
    {
     "data": {
      "text/plain": [
       "<Axes: >"
      ]
     },
     "execution_count": 64,
     "metadata": {},
     "output_type": "execute_result"
    },
    {
     "data": {
      "image/png": "[encoded data removed]",
      "text/plain": [
       "<Figure size 640x480 with 2 Axes>"
      ]
     },
     "metadata": {},
     "output_type": "display_data"
    }
   ],
   "source": [
    "sns.heatmap(data.corr(),annot=True)"
   ]
  },
  {
   "cell_type": "markdown",
   "id": "71a345a4",
   "metadata": {},
   "source": [
    "No null values"
   ]
  },
  {
   "cell_type": "markdown",
   "id": "e2db27aa",
   "metadata": {},
   "source": [
    "Car with the maximum power"
   ]
  },
  {
   "cell_type": "code",
   "execution_count": 58,
   "id": "6aef8a87",
   "metadata": {
    "scrolled": true
   },
   "outputs": [
    {
     "data": {
      "text/plain": [
       "car_name             Bentley Continental\n",
       "brand                            Bentley\n",
       "model                        Continental\n",
       "vehicle_age                            9\n",
       "km_driven                           9000\n",
       "seller_type                       Dealer\n",
       "fuel_type                         Petrol\n",
       "transmission_type              Automatic\n",
       "mileage                              9.5\n",
       "engine                              5998\n",
       "max_power                          626.0\n",
       "seats                                  4\n",
       "selling_price                   14500000\n",
       "Name: 1172, dtype: object"
      ]
     },
     "execution_count": 58,
     "metadata": {},
     "output_type": "execute_result"
    }
   ],
   "source": [
    "data.loc[data[\"max_power\"].idxmax()]"
   ]
  },
  {
   "cell_type": "markdown",
   "id": "90a6dbd5",
   "metadata": {},
   "source": [
    "Car with the highest selling price"
   ]
  },
  {
   "cell_type": "code",
   "execution_count": 57,
   "id": "b1782114",
   "metadata": {},
   "outputs": [
    {
     "data": {
      "text/plain": [
       "car_name             Ferrari GTC4Lusso\n",
       "brand                          Ferrari\n",
       "model                        GTC4Lusso\n",
       "vehicle_age                          2\n",
       "km_driven                         3800\n",
       "seller_type                     Dealer\n",
       "fuel_type                       Petrol\n",
       "transmission_type            Automatic\n",
       "mileage                            4.0\n",
       "engine                            3855\n",
       "max_power                        601.0\n",
       "seats                                4\n",
       "selling_price                 39500000\n",
       "Name: 3799, dtype: object"
      ]
     },
     "execution_count": 57,
     "metadata": {},
     "output_type": "execute_result"
    }
   ],
   "source": [
    "data.loc[data[\"selling_price\"].idxmax()]"
   ]
  },
  {
   "cell_type": "code",
   "execution_count": 52,
   "id": "8f73ef76",
   "metadata": {},
   "outputs": [
    {
     "data": {
      "text/plain": [
       "3799     39500000\n",
       "10969    24200000\n",
       "1172     14500000\n",
       "Name: selling_price, dtype: int64"
      ]
     },
     "execution_count": 52,
     "metadata": {},
     "output_type": "execute_result"
    }
   ],
   "source": [
    "data[\"selling_price\"].nlargest(3)"
   ]
  },
  {
   "cell_type": "code",
   "execution_count": 62,
   "id": "7ad8a500",
   "metadata": {},
   "outputs": [
    {
     "data": {
      "text/plain": [
       "1172     626.0\n",
       "3799     601.0\n",
       "10040    600.0\n",
       "Name: max_power, dtype: float64"
      ]
     },
     "execution_count": 62,
     "metadata": {},
     "output_type": "execute_result"
    }
   ],
   "source": [
    "data[\"max_power\"].nlargest(3)"
   ]
  },
  {
   "cell_type": "code",
   "execution_count": 60,
   "id": "b65518a6",
   "metadata": {},
   "outputs": [
    {
     "data": {
      "text/html": [
       "<div>\n",
       "<style scoped>\n",
       "    .dataframe tbody tr th:only-of-type {\n",
       "        vertical-align: middle;\n",
       "    }\n",
       "\n",
       "    .dataframe tbody tr th {\n",
       "        vertical-align: top;\n",
       "    }\n",
       "\n",
       "    .dataframe thead th {\n",
       "        text-align: right;\n",
       "    }\n",
       "</style>\n",
       "<table border=\"1\" class=\"dataframe\">\n",
       "  <thead>\n",
       "    <tr style=\"text-align: right;\">\n",
       "      <th></th>\n",
       "      <th>car_name</th>\n",
       "      <th>brand</th>\n",
       "      <th>model</th>\n",
       "      <th>vehicle_age</th>\n",
       "      <th>km_driven</th>\n",
       "      <th>seller_type</th>\n",
       "      <th>fuel_type</th>\n",
       "      <th>transmission_type</th>\n",
       "      <th>mileage</th>\n",
       "      <th>engine</th>\n",
       "      <th>max_power</th>\n",
       "      <th>seats</th>\n",
       "      <th>selling_price</th>\n",
       "    </tr>\n",
       "  </thead>\n",
       "  <tbody>\n",
       "    <tr>\n",
       "      <th>3799</th>\n",
       "      <td>Ferrari GTC4Lusso</td>\n",
       "      <td>Ferrari</td>\n",
       "      <td>GTC4Lusso</td>\n",
       "      <td>2</td>\n",
       "      <td>3800</td>\n",
       "      <td>Dealer</td>\n",
       "      <td>Petrol</td>\n",
       "      <td>Automatic</td>\n",
       "      <td>4.00</td>\n",
       "      <td>3855</td>\n",
       "      <td>601.0</td>\n",
       "      <td>4</td>\n",
       "      <td>39500000</td>\n",
       "    </tr>\n",
       "    <tr>\n",
       "      <th>10969</th>\n",
       "      <td>Rolls-Royce Ghost</td>\n",
       "      <td>Rolls-Royce</td>\n",
       "      <td>Ghost</td>\n",
       "      <td>4</td>\n",
       "      <td>5000</td>\n",
       "      <td>Individual</td>\n",
       "      <td>Petrol</td>\n",
       "      <td>Automatic</td>\n",
       "      <td>10.20</td>\n",
       "      <td>6592</td>\n",
       "      <td>563.0</td>\n",
       "      <td>4</td>\n",
       "      <td>24200000</td>\n",
       "    </tr>\n",
       "    <tr>\n",
       "      <th>1172</th>\n",
       "      <td>Bentley Continental</td>\n",
       "      <td>Bentley</td>\n",
       "      <td>Continental</td>\n",
       "      <td>9</td>\n",
       "      <td>9000</td>\n",
       "      <td>Dealer</td>\n",
       "      <td>Petrol</td>\n",
       "      <td>Automatic</td>\n",
       "      <td>9.50</td>\n",
       "      <td>5998</td>\n",
       "      <td>626.0</td>\n",
       "      <td>4</td>\n",
       "      <td>14500000</td>\n",
       "    </tr>\n",
       "    <tr>\n",
       "      <th>9722</th>\n",
       "      <td>Mercedes-Benz S-Class</td>\n",
       "      <td>Mercedes-Benz</td>\n",
       "      <td>S-Class</td>\n",
       "      <td>3</td>\n",
       "      <td>4000</td>\n",
       "      <td>Dealer</td>\n",
       "      <td>Petrol</td>\n",
       "      <td>Automatic</td>\n",
       "      <td>7.81</td>\n",
       "      <td>4663</td>\n",
       "      <td>459.0</td>\n",
       "      <td>4</td>\n",
       "      <td>13000000</td>\n",
       "    </tr>\n",
       "    <tr>\n",
       "      <th>9364</th>\n",
       "      <td>Porsche Cayenne</td>\n",
       "      <td>Porsche</td>\n",
       "      <td>Cayenne</td>\n",
       "      <td>4</td>\n",
       "      <td>24000</td>\n",
       "      <td>Dealer</td>\n",
       "      <td>Petrol</td>\n",
       "      <td>Automatic</td>\n",
       "      <td>12.50</td>\n",
       "      <td>3604</td>\n",
       "      <td>440.0</td>\n",
       "      <td>5</td>\n",
       "      <td>11100000</td>\n",
       "    </tr>\n",
       "  </tbody>\n",
       "</table>\n",
       "</div>"
      ],
      "text/plain": [
       "                    car_name          brand        model  vehicle_age  \\\n",
       "3799       Ferrari GTC4Lusso        Ferrari    GTC4Lusso            2   \n",
       "10969      Rolls-Royce Ghost    Rolls-Royce        Ghost            4   \n",
       "1172     Bentley Continental        Bentley  Continental            9   \n",
       "9722   Mercedes-Benz S-Class  Mercedes-Benz      S-Class            3   \n",
       "9364         Porsche Cayenne        Porsche      Cayenne            4   \n",
       "\n",
       "       km_driven seller_type fuel_type transmission_type  mileage  engine  \\\n",
       "3799        3800      Dealer    Petrol         Automatic     4.00    3855   \n",
       "10969       5000  Individual    Petrol         Automatic    10.20    6592   \n",
       "1172        9000      Dealer    Petrol         Automatic     9.50    5998   \n",
       "9722        4000      Dealer    Petrol         Automatic     7.81    4663   \n",
       "9364       24000      Dealer    Petrol         Automatic    12.50    3604   \n",
       "\n",
       "       max_power  seats  selling_price  \n",
       "3799       601.0      4       39500000  \n",
       "10969      563.0      4       24200000  \n",
       "1172       626.0      4       14500000  \n",
       "9722       459.0      4       13000000  \n",
       "9364       440.0      5       11100000  "
      ]
     },
     "execution_count": 60,
     "metadata": {},
     "output_type": "execute_result"
    }
   ],
   "source": [
    "data.sort_values(\"selling_price\",ascending=False)[:5]"
   ]
  },
  {
   "cell_type": "code",
   "execution_count": 61,
   "id": "7f3bb713",
   "metadata": {},
   "outputs": [
    {
     "data": {
      "text/html": [
       "<div>\n",
       "<style scoped>\n",
       "    .dataframe tbody tr th:only-of-type {\n",
       "        vertical-align: middle;\n",
       "    }\n",
       "\n",
       "    .dataframe tbody tr th {\n",
       "        vertical-align: top;\n",
       "    }\n",
       "\n",
       "    .dataframe thead th {\n",
       "        text-align: right;\n",
       "    }\n",
       "</style>\n",
       "<table border=\"1\" class=\"dataframe\">\n",
       "  <thead>\n",
       "    <tr style=\"text-align: right;\">\n",
       "      <th></th>\n",
       "      <th>car_name</th>\n",
       "      <th>brand</th>\n",
       "      <th>model</th>\n",
       "      <th>vehicle_age</th>\n",
       "      <th>km_driven</th>\n",
       "      <th>seller_type</th>\n",
       "      <th>fuel_type</th>\n",
       "      <th>transmission_type</th>\n",
       "      <th>mileage</th>\n",
       "      <th>engine</th>\n",
       "      <th>max_power</th>\n",
       "      <th>seats</th>\n",
       "      <th>selling_price</th>\n",
       "    </tr>\n",
       "  </thead>\n",
       "  <tbody>\n",
       "    <tr>\n",
       "      <th>1172</th>\n",
       "      <td>Bentley Continental</td>\n",
       "      <td>Bentley</td>\n",
       "      <td>Continental</td>\n",
       "      <td>9</td>\n",
       "      <td>9000</td>\n",
       "      <td>Dealer</td>\n",
       "      <td>Petrol</td>\n",
       "      <td>Automatic</td>\n",
       "      <td>9.5</td>\n",
       "      <td>5998</td>\n",
       "      <td>626.0</td>\n",
       "      <td>4</td>\n",
       "      <td>14500000</td>\n",
       "    </tr>\n",
       "    <tr>\n",
       "      <th>3799</th>\n",
       "      <td>Ferrari GTC4Lusso</td>\n",
       "      <td>Ferrari</td>\n",
       "      <td>GTC4Lusso</td>\n",
       "      <td>2</td>\n",
       "      <td>3800</td>\n",
       "      <td>Dealer</td>\n",
       "      <td>Petrol</td>\n",
       "      <td>Automatic</td>\n",
       "      <td>4.0</td>\n",
       "      <td>3855</td>\n",
       "      <td>601.0</td>\n",
       "      <td>4</td>\n",
       "      <td>39500000</td>\n",
       "    </tr>\n",
       "    <tr>\n",
       "      <th>10040</th>\n",
       "      <td>Bentley Continental</td>\n",
       "      <td>Bentley</td>\n",
       "      <td>Continental</td>\n",
       "      <td>9</td>\n",
       "      <td>37500</td>\n",
       "      <td>Dealer</td>\n",
       "      <td>Petrol</td>\n",
       "      <td>Automatic</td>\n",
       "      <td>6.0</td>\n",
       "      <td>5998</td>\n",
       "      <td>600.0</td>\n",
       "      <td>5</td>\n",
       "      <td>5200000</td>\n",
       "    </tr>\n",
       "    <tr>\n",
       "      <th>10969</th>\n",
       "      <td>Rolls-Royce Ghost</td>\n",
       "      <td>Rolls-Royce</td>\n",
       "      <td>Ghost</td>\n",
       "      <td>4</td>\n",
       "      <td>5000</td>\n",
       "      <td>Individual</td>\n",
       "      <td>Petrol</td>\n",
       "      <td>Automatic</td>\n",
       "      <td>10.2</td>\n",
       "      <td>6592</td>\n",
       "      <td>563.0</td>\n",
       "      <td>4</td>\n",
       "      <td>24200000</td>\n",
       "    </tr>\n",
       "    <tr>\n",
       "      <th>12997</th>\n",
       "      <td>Bentley Continental</td>\n",
       "      <td>Bentley</td>\n",
       "      <td>Continental</td>\n",
       "      <td>10</td>\n",
       "      <td>30000</td>\n",
       "      <td>Dealer</td>\n",
       "      <td>Petrol</td>\n",
       "      <td>Automatic</td>\n",
       "      <td>8.6</td>\n",
       "      <td>5998</td>\n",
       "      <td>552.0</td>\n",
       "      <td>4</td>\n",
       "      <td>8100000</td>\n",
       "    </tr>\n",
       "  </tbody>\n",
       "</table>\n",
       "</div>"
      ],
      "text/plain": [
       "                  car_name        brand        model  vehicle_age  km_driven  \\\n",
       "1172   Bentley Continental      Bentley  Continental            9       9000   \n",
       "3799     Ferrari GTC4Lusso      Ferrari    GTC4Lusso            2       3800   \n",
       "10040  Bentley Continental      Bentley  Continental            9      37500   \n",
       "10969    Rolls-Royce Ghost  Rolls-Royce        Ghost            4       5000   \n",
       "12997  Bentley Continental      Bentley  Continental           10      30000   \n",
       "\n",
       "      seller_type fuel_type transmission_type  mileage  engine  max_power  \\\n",
       "1172       Dealer    Petrol         Automatic      9.5    5998      626.0   \n",
       "3799       Dealer    Petrol         Automatic      4.0    3855      601.0   \n",
       "10040      Dealer    Petrol         Automatic      6.0    5998      600.0   \n",
       "10969  Individual    Petrol         Automatic     10.2    6592      563.0   \n",
       "12997      Dealer    Petrol         Automatic      8.6    5998      552.0   \n",
       "\n",
       "       seats  selling_price  \n",
       "1172       4       14500000  \n",
       "3799       4       39500000  \n",
       "10040      5        5200000  \n",
       "10969      4       24200000  \n",
       "12997      4        8100000  "
      ]
     },
     "execution_count": 61,
     "metadata": {},
     "output_type": "execute_result"
    }
   ],
   "source": [
    "data.sort_values(\"max_power\",ascending=False)[:5]"
   ]
  },
  {
   "cell_type": "code",
   "execution_count": 70,
   "id": "8b7e931e",
   "metadata": {},
   "outputs": [],
   "source": [
    "data=pd.get_dummies(data,drop_first=True)"
   ]
  },
  {
   "cell_type": "code",
   "execution_count": 72,
   "id": "aac793bb",
   "metadata": {},
   "outputs": [
    {
     "data": {
      "text/plain": [
       "(15244, 284)"
      ]
     },
     "execution_count": 72,
     "metadata": {},
     "output_type": "execute_result"
    }
   ],
   "source": [
    "data.shape"
   ]
  },
  {
   "cell_type": "code",
   "execution_count": null,
   "id": "738ce2cf",
   "metadata": {},
   "outputs": [],
   "source": []
  }
 ],
 "metadata": {
  "kernelspec": {
   "display_name": "Python 3 (ipykernel)",
   "language": "python",
   "name": "python3"
  },
  "language_info": {
   "codemirror_mode": {
    "name": "ipython",
    "version": 3
   },
   "file_extension": ".py",
   "mimetype": "text/x-python",
   "name": "python",
   "nbconvert_exporter": "python",
   "pygments_lexer": "ipython3",
   "version": "3.11.3"
  }
 },
 "nbformat": 4,
 "nbformat_minor": 5
}
