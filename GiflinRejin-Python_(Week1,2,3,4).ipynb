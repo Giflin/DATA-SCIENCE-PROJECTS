{
 "cells": [
  {
   "cell_type": "markdown",
   "id": "b4472782",
   "metadata": {
    "id": "b4472782"
   },
   "source": [
    "# Generate Synthetic data"
   ]
  },
  {
   "cell_type": "code",
   "execution_count": 336,
   "id": "762a2bcf",
   "metadata": {
    "id": "762a2bcf",
    "outputId": "d1550794-7ec7-429c-f82e-e3fe8efc2381"
   },
   "outputs": [
    {
     "name": "stdout",
     "output_type": "stream",
     "text": [
      "    Name  Age  Gender  Test 1  Test 2  Test 3  Height  Weight\n",
      "0  Name1   56  Female     NaN    98.0    81.0     NaN    54.0\n",
      "1  Name2   46  Female     NaN    91.0    98.0   185.0    51.0\n",
      "2  Name3   32    Male    95.0    77.0    82.0   154.0    95.0\n",
      "3  Name4   25    Male    94.0    76.0    89.0   188.0    73.0\n",
      "4  Name5   38  Female    91.0    93.0     NaN   155.0    67.0\n"
     ]
    }
   ],
   "source": [
    "import pandas as pd\n",
    "import numpy as np\n",
    "import random\n",
    "\n",
    "# Set a random seed for reproducibility\n",
    "np.random.seed(42)\n",
    "\n",
    "# Generate synthetic data\n",
    "data = {\n",
    "    'Name': ['Name' + str(i) for i in range(1, 5001)],\n",
    "    'Age': np.random.randint(18, 60, 5000),\n",
    "    'Gender': random.choices(['Male', 'Female'], k=5000),\n",
    "    'Test 1': np.random.randint(60, 100, 5000),\n",
    "    'Test 2': np.random.randint(60, 100, 5000),\n",
    "    'Test 3': np.random.randint(60, 100, 5000),\n",
    "    'Height': np.random.randint(150, 200, 5000),\n",
    "    'Weight': np.random.randint(50, 100, 5000)\n",
    "}\n",
    "\n",
    "# Create a DataFrame\n",
    "df = pd.DataFrame(data)\n",
    "\n",
    "# Insert some missing values\n",
    "for col in 'Test 1', 'Test 2', 'Test 3', 'Height', 'Weight':\n",
    "    df.loc[df.sample(frac=0.1).index, col] = np.nan\n",
    "\n",
    "# Save the DataFrame to a CSV file\n",
    "df.to_csv('synthetic_data.csv', index=False)\n",
    "\n",
    "print(df.head())\n"
   ]
  },
  {
   "cell_type": "markdown",
   "id": "72940eb5",
   "metadata": {
    "id": "72940eb5"
   },
   "source": [
    "# Questions (1 marks each)"
   ]
  },
  {
   "cell_type": "markdown",
   "id": "pezI7pAJN4fm",
   "metadata": {
    "id": "pezI7pAJN4fm"
   },
   "source": [
    "# Questions\n",
    "\n",
    "Part - A\n",
    "\n",
    "Question 1:\n",
    "Load the synthetic data CSV file into a pandas DataFrame and display the first 10 rows of the DataFrame.\n",
    "\n",
    "Question 2:\n",
    "Check for any missing values in the DataFrame.\n",
    "\n",
    "Question 3:\n",
    "Fill the missing values in each column with the mean of that column.\n",
    "\n",
    "Question 4:\n",
    "Create a new column in the DataFrame called 'Average' which is the average of 'Test 1', 'Test 2', and 'Test 3' for each student.\n",
    "\n",
    "Question 5:\n",
    "Find the total number of Male and Female students.\n",
    "\n",
    "Question 6:\n",
    "Find the average age of Male and Female students.\n",
    "\n",
    "Question 7:\n",
    "Find the students with the top 10 highest average marks.\n",
    "\n",
    "Question 8:\n",
    "Create a histogram to visualize the distribution of the 'Average' marks.\n",
    "\n",
    "Question 9:\n",
    "Create a bar plot to visualize the number of Male and Female students.\n",
    "\n",
    "Question 10:\n",
    "Create a box plot to visualize the distribution of the 'Age' of the students.\n",
    "\n",
    "Question 11:\n",
    "Create a multivariate line plot to visualize the average scores of 'Test 1', 'Test 2', and 'Test 3' for males and females.\n",
    "\n",
    "Question 12:\n",
    "Save the updated DataFrame with the 'Average' column to a new CSV file.\n",
    "\n",
    "\n",
    "Part - B\n",
    "\n",
    "Question 13:\n",
    "Convert the following lists into a single pandas DataFrame.\n",
    "\n",
    "names = ['Alice', 'Bob', 'Charlie', 'David']\n",
    "ages = [25, 30, 35, 40]\n",
    "\n",
    "\n",
    "Question 14:\n",
    "Create a list of squares of all even numbers between 1 and 20 using list comprehension.\n",
    "\n",
    "Question 15:\n",
    "Use a lambda function to create a list of odd numbers between 1 and 50.\n",
    "\n",
    "Question 16:\n",
    "Write a Python program to print a right angle triangle using \"*\""
   ]
  },
  {
   "cell_type": "raw",
   "id": "c073ab2a",
   "metadata": {
    "id": "c073ab2a"
   },
   "source": [
    "Part - A\n",
    "\n",
    "Question 1:\n",
    "Load the synthetic data CSV file into a pandas DataFrame and display the first 10 rows of the DataFrame.\n",
    "\n",
    "Question 2:\n",
    "Check for any missing values in the DataFrame.\n",
    "\n",
    "Question 3:\n",
    "Fill the missing values in each column with the mean of that column.\n",
    "\n",
    "Question 4:\n",
    "Create a new column in the DataFrame called 'Average' which is the average of 'Test 1', 'Test 2', and 'Test 3' for each student.\n",
    "\n",
    "Question 5:\n",
    "Find the total number of Male and Female students.\n",
    "\n",
    "Question 6:\n",
    "Find the average age of Male and Female students.\n",
    "\n",
    "Question 7:\n",
    "Find the students with the top 10 highest average marks.\n",
    "\n",
    "Question 8:\n",
    "Create a histogram to visualize the distribution of the 'Average' marks.\n",
    "\n",
    "Question 9:\n",
    "Create a bar plot to visualize the number of Male and Female students.\n",
    "\n",
    "Question 10:\n",
    "Create a box plot to visualize the distribution of the 'Age' of the students.\n",
    "\n",
    "Question 11:\n",
    "Create a multivariate line plot to visualize the average scores of 'Test 1', 'Test 2', and 'Test 3' for males and females.\n",
    "\n",
    "Question 12:\n",
    "Save the updated DataFrame with the 'Average' column to a new CSV file.\n",
    "\n",
    "\n",
    "Part - B\n",
    "\n",
    "Question 13:\n",
    "Convert the following lists into a single pandas DataFrame.\n",
    "\n",
    "names = ['Alice', 'Bob', 'Charlie', 'David']\n",
    "ages = [25, 30, 35, 40]\n",
    "\n",
    "\n",
    "Question 14:\n",
    "Create a list of squares of all even numbers between 1 and 20 using list comprehension.\n",
    "\n",
    "Question 15:\n",
    "Use a lambda function to create a list of odd numbers between 1 and 50.\n",
    "\n",
    "Question 16:\n",
    "Write a Python program to print the following star pattern:\n",
    "\n",
    "*\n",
    "**\n",
    "***\n",
    "****\n",
    "*****"
   ]
  },
  {
   "cell_type": "markdown",
   "id": "b27e8b48",
   "metadata": {},
   "source": [
    "# Question 1:\n",
    "## Load the synthetic data CSV file into a pandas DataFrame and display the first 10 rows of the DataFrame."
   ]
  },
  {
   "cell_type": "code",
   "execution_count": 337,
   "id": "cFxJNemSeSjd",
   "metadata": {
    "id": "cFxJNemSeSjd"
   },
   "outputs": [],
   "source": [
    "data=pd.read_csv(\"synthetic_data.csv\")"
   ]
  },
  {
   "cell_type": "code",
   "execution_count": 338,
   "id": "2dec9c81",
   "metadata": {
    "id": "Cz1sXbK6Nzbw"
   },
   "outputs": [
    {
     "data": {
      "text/html": [
       "<div>\n",
       "<style scoped>\n",
       "    .dataframe tbody tr th:only-of-type {\n",
       "        vertical-align: middle;\n",
       "    }\n",
       "\n",
       "    .dataframe tbody tr th {\n",
       "        vertical-align: top;\n",
       "    }\n",
       "\n",
       "    .dataframe thead th {\n",
       "        text-align: right;\n",
       "    }\n",
       "</style>\n",
       "<table border=\"1\" class=\"dataframe\">\n",
       "  <thead>\n",
       "    <tr style=\"text-align: right;\">\n",
       "      <th></th>\n",
       "      <th>Name</th>\n",
       "      <th>Age</th>\n",
       "      <th>Gender</th>\n",
       "      <th>Test 1</th>\n",
       "      <th>Test 2</th>\n",
       "      <th>Test 3</th>\n",
       "      <th>Height</th>\n",
       "      <th>Weight</th>\n",
       "    </tr>\n",
       "  </thead>\n",
       "  <tbody>\n",
       "    <tr>\n",
       "      <th>0</th>\n",
       "      <td>Name1</td>\n",
       "      <td>56</td>\n",
       "      <td>Female</td>\n",
       "      <td>NaN</td>\n",
       "      <td>98.0</td>\n",
       "      <td>81.0</td>\n",
       "      <td>NaN</td>\n",
       "      <td>54.0</td>\n",
       "    </tr>\n",
       "    <tr>\n",
       "      <th>1</th>\n",
       "      <td>Name2</td>\n",
       "      <td>46</td>\n",
       "      <td>Female</td>\n",
       "      <td>NaN</td>\n",
       "      <td>91.0</td>\n",
       "      <td>98.0</td>\n",
       "      <td>185.0</td>\n",
       "      <td>51.0</td>\n",
       "    </tr>\n",
       "    <tr>\n",
       "      <th>2</th>\n",
       "      <td>Name3</td>\n",
       "      <td>32</td>\n",
       "      <td>Male</td>\n",
       "      <td>95.0</td>\n",
       "      <td>77.0</td>\n",
       "      <td>82.0</td>\n",
       "      <td>154.0</td>\n",
       "      <td>95.0</td>\n",
       "    </tr>\n",
       "    <tr>\n",
       "      <th>3</th>\n",
       "      <td>Name4</td>\n",
       "      <td>25</td>\n",
       "      <td>Male</td>\n",
       "      <td>94.0</td>\n",
       "      <td>76.0</td>\n",
       "      <td>89.0</td>\n",
       "      <td>188.0</td>\n",
       "      <td>73.0</td>\n",
       "    </tr>\n",
       "    <tr>\n",
       "      <th>4</th>\n",
       "      <td>Name5</td>\n",
       "      <td>38</td>\n",
       "      <td>Female</td>\n",
       "      <td>91.0</td>\n",
       "      <td>93.0</td>\n",
       "      <td>NaN</td>\n",
       "      <td>155.0</td>\n",
       "      <td>67.0</td>\n",
       "    </tr>\n",
       "  </tbody>\n",
       "</table>\n",
       "</div>"
      ],
      "text/plain": [
       "    Name  Age  Gender  Test 1  Test 2  Test 3  Height  Weight\n",
       "0  Name1   56  Female     NaN    98.0    81.0     NaN    54.0\n",
       "1  Name2   46  Female     NaN    91.0    98.0   185.0    51.0\n",
       "2  Name3   32    Male    95.0    77.0    82.0   154.0    95.0\n",
       "3  Name4   25    Male    94.0    76.0    89.0   188.0    73.0\n",
       "4  Name5   38  Female    91.0    93.0     NaN   155.0    67.0"
      ]
     },
     "execution_count": 338,
     "metadata": {},
     "output_type": "execute_result"
    }
   ],
   "source": [
    "data.head()"
   ]
  },
  {
   "cell_type": "markdown",
   "id": "de84cee3",
   "metadata": {},
   "source": [
    "# Question 2:\n",
    "# Check for any missing values in the DataFrame.\n"
   ]
  },
  {
   "cell_type": "code",
   "execution_count": 339,
   "id": "m7Uv4HAGN8Df",
   "metadata": {
    "id": "m7Uv4HAGN8Df"
   },
   "outputs": [
    {
     "data": {
      "text/plain": [
       "Name        0\n",
       "Age         0\n",
       "Gender      0\n",
       "Test 1    500\n",
       "Test 2    500\n",
       "Test 3    500\n",
       "Height    500\n",
       "Weight    500\n",
       "dtype: int64"
      ]
     },
     "execution_count": 339,
     "metadata": {},
     "output_type": "execute_result"
    }
   ],
   "source": [
    "data.isnull().sum()"
   ]
  },
  {
   "cell_type": "markdown",
   "id": "fa594f1b",
   "metadata": {},
   "source": [
    "# Question 3:\n",
    "# Fill the missing values in each column with the mean of that column.\n"
   ]
  },
  {
   "cell_type": "code",
   "execution_count": 340,
   "id": "f6013f44",
   "metadata": {},
   "outputs": [],
   "source": [
    "data[\"Test 1\"]=data[\"Test 1\"].fillna(data[\"Test 1\"].mean())\n",
    "data[\"Test 2\"]=data[\"Test 2\"].fillna(data[\"Test 2\"].mean())\n",
    "data[\"Test 3\"]=data[\"Test 3\"].fillna(data[\"Test 3\"].mean())\n",
    "data[\"Height\"]=data[\"Height\"].fillna(data[\"Height\"].mean())\n",
    "data[\"Weight\"]=data[\"Weight\"].fillna(data[\"Weight\"].mean())"
   ]
  },
  {
   "cell_type": "code",
   "execution_count": 341,
   "id": "7c89f680",
   "metadata": {},
   "outputs": [
    {
     "data": {
      "text/plain": [
       "Name      0\n",
       "Age       0\n",
       "Gender    0\n",
       "Test 1    0\n",
       "Test 2    0\n",
       "Test 3    0\n",
       "Height    0\n",
       "Weight    0\n",
       "dtype: int64"
      ]
     },
     "execution_count": 341,
     "metadata": {},
     "output_type": "execute_result"
    }
   ],
   "source": [
    "data.isnull().sum()"
   ]
  },
  {
   "cell_type": "markdown",
   "id": "859aae0f",
   "metadata": {},
   "source": [
    "# Question 4:\n",
    "## Create a new column in the DataFrame called 'Average' which is the average of 'Test 1', 'Test 2', and 'Test 3' for each student.\n"
   ]
  },
  {
   "cell_type": "code",
   "execution_count": 342,
   "id": "1f44d46b",
   "metadata": {},
   "outputs": [],
   "source": [
    "data[\"Average\"]=(data[\"Test 1\"].astype(int) + data[\"Test 2\"].astype(int) + data[\"Test 3\"].astype(int))/3"
   ]
  },
  {
   "cell_type": "code",
   "execution_count": 343,
   "id": "57120a6f",
   "metadata": {},
   "outputs": [
    {
     "data": {
      "text/plain": [
       "0       86.000000\n",
       "1       89.333333\n",
       "2       84.666667\n",
       "3       86.333333\n",
       "4       87.666667\n",
       "          ...    \n",
       "4995    87.666667\n",
       "4996    88.666667\n",
       "4997    92.333333\n",
       "4998    63.666667\n",
       "4999    95.000000\n",
       "Name: Average, Length: 5000, dtype: float64"
      ]
     },
     "execution_count": 343,
     "metadata": {},
     "output_type": "execute_result"
    }
   ],
   "source": [
    "data[\"Average\"]"
   ]
  },
  {
   "cell_type": "code",
   "execution_count": 344,
   "id": "19f739a5",
   "metadata": {},
   "outputs": [
    {
     "data": {
      "text/html": [
       "<div>\n",
       "<style scoped>\n",
       "    .dataframe tbody tr th:only-of-type {\n",
       "        vertical-align: middle;\n",
       "    }\n",
       "\n",
       "    .dataframe tbody tr th {\n",
       "        vertical-align: top;\n",
       "    }\n",
       "\n",
       "    .dataframe thead th {\n",
       "        text-align: right;\n",
       "    }\n",
       "</style>\n",
       "<table border=\"1\" class=\"dataframe\">\n",
       "  <thead>\n",
       "    <tr style=\"text-align: right;\">\n",
       "      <th></th>\n",
       "      <th>Name</th>\n",
       "      <th>Age</th>\n",
       "      <th>Gender</th>\n",
       "      <th>Test 1</th>\n",
       "      <th>Test 2</th>\n",
       "      <th>Test 3</th>\n",
       "      <th>Height</th>\n",
       "      <th>Weight</th>\n",
       "      <th>Average</th>\n",
       "    </tr>\n",
       "  </thead>\n",
       "  <tbody>\n",
       "    <tr>\n",
       "      <th>0</th>\n",
       "      <td>Name1</td>\n",
       "      <td>56</td>\n",
       "      <td>Female</td>\n",
       "      <td>79.33</td>\n",
       "      <td>98.0</td>\n",
       "      <td>81.000000</td>\n",
       "      <td>174.836889</td>\n",
       "      <td>54.0</td>\n",
       "      <td>86.000000</td>\n",
       "    </tr>\n",
       "    <tr>\n",
       "      <th>1</th>\n",
       "      <td>Name2</td>\n",
       "      <td>46</td>\n",
       "      <td>Female</td>\n",
       "      <td>79.33</td>\n",
       "      <td>91.0</td>\n",
       "      <td>98.000000</td>\n",
       "      <td>185.000000</td>\n",
       "      <td>51.0</td>\n",
       "      <td>89.333333</td>\n",
       "    </tr>\n",
       "    <tr>\n",
       "      <th>2</th>\n",
       "      <td>Name3</td>\n",
       "      <td>32</td>\n",
       "      <td>Male</td>\n",
       "      <td>95.00</td>\n",
       "      <td>77.0</td>\n",
       "      <td>82.000000</td>\n",
       "      <td>154.000000</td>\n",
       "      <td>95.0</td>\n",
       "      <td>84.666667</td>\n",
       "    </tr>\n",
       "    <tr>\n",
       "      <th>3</th>\n",
       "      <td>Name4</td>\n",
       "      <td>25</td>\n",
       "      <td>Male</td>\n",
       "      <td>94.00</td>\n",
       "      <td>76.0</td>\n",
       "      <td>89.000000</td>\n",
       "      <td>188.000000</td>\n",
       "      <td>73.0</td>\n",
       "      <td>86.333333</td>\n",
       "    </tr>\n",
       "    <tr>\n",
       "      <th>4</th>\n",
       "      <td>Name5</td>\n",
       "      <td>38</td>\n",
       "      <td>Female</td>\n",
       "      <td>91.00</td>\n",
       "      <td>93.0</td>\n",
       "      <td>79.104222</td>\n",
       "      <td>155.000000</td>\n",
       "      <td>67.0</td>\n",
       "      <td>87.666667</td>\n",
       "    </tr>\n",
       "  </tbody>\n",
       "</table>\n",
       "</div>"
      ],
      "text/plain": [
       "    Name  Age  Gender  Test 1  Test 2     Test 3      Height  Weight  \\\n",
       "0  Name1   56  Female   79.33    98.0  81.000000  174.836889    54.0   \n",
       "1  Name2   46  Female   79.33    91.0  98.000000  185.000000    51.0   \n",
       "2  Name3   32    Male   95.00    77.0  82.000000  154.000000    95.0   \n",
       "3  Name4   25    Male   94.00    76.0  89.000000  188.000000    73.0   \n",
       "4  Name5   38  Female   91.00    93.0  79.104222  155.000000    67.0   \n",
       "\n",
       "     Average  \n",
       "0  86.000000  \n",
       "1  89.333333  \n",
       "2  84.666667  \n",
       "3  86.333333  \n",
       "4  87.666667  "
      ]
     },
     "execution_count": 344,
     "metadata": {},
     "output_type": "execute_result"
    }
   ],
   "source": [
    "data.head()"
   ]
  },
  {
   "cell_type": "markdown",
   "id": "a94d69e7",
   "metadata": {},
   "source": [
    "# Question 5:\n",
    "## Find the total number of Male and Female students.\n"
   ]
  },
  {
   "cell_type": "code",
   "execution_count": 345,
   "id": "6949bd99",
   "metadata": {},
   "outputs": [
    {
     "data": {
      "text/plain": [
       "Male      2511\n",
       "Female    2489\n",
       "Name: Gender, dtype: int64"
      ]
     },
     "execution_count": 345,
     "metadata": {},
     "output_type": "execute_result"
    }
   ],
   "source": [
    "data[\"Gender\"].value_counts()"
   ]
  },
  {
   "cell_type": "markdown",
   "id": "baa3ebc7",
   "metadata": {},
   "source": [
    "# Question 6:\n",
    "## Find the average age of Male and Female students.\n"
   ]
  },
  {
   "cell_type": "code",
   "execution_count": 346,
   "id": "0e4278ac",
   "metadata": {},
   "outputs": [
    {
     "data": {
      "text/plain": [
       "<pandas.core.groupby.generic.DataFrameGroupBy object at 0x000002B453779990>"
      ]
     },
     "execution_count": 346,
     "metadata": {},
     "output_type": "execute_result"
    }
   ],
   "source": [
    "data[[\"Gender\",\"Age\"]].groupby(data[\"Gender\"]==\"Female\")\n"
   ]
  },
  {
   "cell_type": "markdown",
   "id": "eda5c274",
   "metadata": {},
   "source": [
    "# Question 7: Find the students with the top 10 highest average marks."
   ]
  },
  {
   "cell_type": "code",
   "execution_count": 347,
   "id": "7a56bff9",
   "metadata": {},
   "outputs": [
    {
     "data": {
      "text/html": [
       "<div>\n",
       "<style scoped>\n",
       "    .dataframe tbody tr th:only-of-type {\n",
       "        vertical-align: middle;\n",
       "    }\n",
       "\n",
       "    .dataframe tbody tr th {\n",
       "        vertical-align: top;\n",
       "    }\n",
       "\n",
       "    .dataframe thead th {\n",
       "        text-align: right;\n",
       "    }\n",
       "</style>\n",
       "<table border=\"1\" class=\"dataframe\">\n",
       "  <thead>\n",
       "    <tr style=\"text-align: right;\">\n",
       "      <th></th>\n",
       "      <th>Name</th>\n",
       "      <th>Average</th>\n",
       "    </tr>\n",
       "  </thead>\n",
       "  <tbody>\n",
       "    <tr>\n",
       "      <th>4762</th>\n",
       "      <td>Name4763</td>\n",
       "      <td>98.000000</td>\n",
       "    </tr>\n",
       "    <tr>\n",
       "      <th>157</th>\n",
       "      <td>Name158</td>\n",
       "      <td>97.333333</td>\n",
       "    </tr>\n",
       "    <tr>\n",
       "      <th>3152</th>\n",
       "      <td>Name3153</td>\n",
       "      <td>97.333333</td>\n",
       "    </tr>\n",
       "    <tr>\n",
       "      <th>3636</th>\n",
       "      <td>Name3637</td>\n",
       "      <td>96.666667</td>\n",
       "    </tr>\n",
       "    <tr>\n",
       "      <th>371</th>\n",
       "      <td>Name372</td>\n",
       "      <td>96.666667</td>\n",
       "    </tr>\n",
       "    <tr>\n",
       "      <th>4105</th>\n",
       "      <td>Name4106</td>\n",
       "      <td>96.666667</td>\n",
       "    </tr>\n",
       "    <tr>\n",
       "      <th>1177</th>\n",
       "      <td>Name1178</td>\n",
       "      <td>96.666667</td>\n",
       "    </tr>\n",
       "    <tr>\n",
       "      <th>4540</th>\n",
       "      <td>Name4541</td>\n",
       "      <td>96.333333</td>\n",
       "    </tr>\n",
       "    <tr>\n",
       "      <th>745</th>\n",
       "      <td>Name746</td>\n",
       "      <td>96.333333</td>\n",
       "    </tr>\n",
       "    <tr>\n",
       "      <th>1235</th>\n",
       "      <td>Name1236</td>\n",
       "      <td>96.000000</td>\n",
       "    </tr>\n",
       "  </tbody>\n",
       "</table>\n",
       "</div>"
      ],
      "text/plain": [
       "          Name    Average\n",
       "4762  Name4763  98.000000\n",
       "157    Name158  97.333333\n",
       "3152  Name3153  97.333333\n",
       "3636  Name3637  96.666667\n",
       "371    Name372  96.666667\n",
       "4105  Name4106  96.666667\n",
       "1177  Name1178  96.666667\n",
       "4540  Name4541  96.333333\n",
       "745    Name746  96.333333\n",
       "1235  Name1236  96.000000"
      ]
     },
     "execution_count": 347,
     "metadata": {},
     "output_type": "execute_result"
    }
   ],
   "source": [
    "data[[\"Name\",\"Average\"]].sort_values(by=\"Average\",axis=0,ascending=False).iloc[0:10]"
   ]
  },
  {
   "cell_type": "markdown",
   "id": "4eb76e58",
   "metadata": {},
   "source": [
    "# Question 8: Create a histogram to visualize the distribution of the 'Average' marks."
   ]
  },
  {
   "cell_type": "code",
   "execution_count": 348,
   "id": "593713de",
   "metadata": {},
   "outputs": [
    {
     "data": {
      "image/png": "[encoded data removed]",
      "text/plain": [
       "<Figure size 600x400 with 1 Axes>"
      ]
     },
     "metadata": {},
     "output_type": "display_data"
    }
   ],
   "source": [
    "import matplotlib.pyplot as plt\n",
    "plt.figure(figsize=(6,4))\n",
    "plt.hist(x=data[\"Average\"],color=\"#0789\")\n",
    "plt.xlabel(\"Marks\")\n",
    "plt.ylabel(\"No of Students\")\n",
    "plt.show()"
   ]
  },
  {
   "cell_type": "markdown",
   "id": "b1038308",
   "metadata": {},
   "source": [
    "# Question 9:\n",
    "## Create a bar plot to visualize the number of Male and Female students.\n"
   ]
  },
  {
   "cell_type": "code",
   "execution_count": 349,
   "id": "ee2f700d",
   "metadata": {},
   "outputs": [
    {
     "data": {
      "image/png": "[encoded data removed]",
      "text/plain": [
       "<Figure size 600x400 with 1 Axes>"
      ]
     },
     "metadata": {},
     "output_type": "display_data"
    }
   ],
   "source": [
    "import matplotlib.pyplot as plt\n",
    "plt.figure(figsize=(6,4))\n",
    "plt.bar(x=data[\"Gender\"].unique(),height=data[\"Gender\"].value_counts(),data=data,label=data[\"Gender\"].unique(),color=[\"#07fe34\",\"#096767\"])\n",
    "plt.legend()\n",
    "plt.ylabel(\"No. of Students\")\n",
    "plt.xlabel(\"Gender\")\n",
    "plt.show()"
   ]
  },
  {
   "cell_type": "markdown",
   "id": "f72e269e",
   "metadata": {},
   "source": [
    "# Question 10:\n",
    "## Create a box plot to visualize the distribution of the 'Age' of the students.\n"
   ]
  },
  {
   "cell_type": "code",
   "execution_count": 350,
   "id": "a19edf20",
   "metadata": {},
   "outputs": [],
   "source": [
    "import seaborn as sns"
   ]
  },
  {
   "cell_type": "code",
   "execution_count": 351,
   "id": "20b6deda",
   "metadata": {},
   "outputs": [
    {
     "data": {
      "image/png": "[encoded data removed]",
      "text/plain": [
       "<Figure size 640x480 with 1 Axes>"
      ]
     },
     "metadata": {},
     "output_type": "display_data"
    }
   ],
   "source": [
    "sns.boxplot(data=data,x=data[\"Age\"],color=\"#05fe76\")\n",
    "plt.title(\"Distribution of age\")\n",
    "plt.show()"
   ]
  },
  {
   "cell_type": "markdown",
   "id": "1fbffb4d",
   "metadata": {},
   "source": [
    "# Question 11:\n",
    "## Create a multivariate line plot to visualize the average scores of 'Test 1', 'Test 2', and 'Test 3' for males and females.\n",
    "\n"
   ]
  },
  {
   "cell_type": "code",
   "execution_count": null,
   "id": "d3e44438",
   "metadata": {},
   "outputs": [],
   "source": []
  },
  {
   "cell_type": "code",
   "execution_count": null,
   "id": "d4add799",
   "metadata": {},
   "outputs": [],
   "source": []
  },
  {
   "cell_type": "markdown",
   "id": "93959430",
   "metadata": {},
   "source": [
    "# Question 12:\n",
    "## Save the updated DataFrame with the 'Average' column to a new CSV file.\n",
    "\n"
   ]
  },
  {
   "cell_type": "code",
   "execution_count": 352,
   "id": "7c96ac51",
   "metadata": {},
   "outputs": [
    {
     "name": "stdout",
     "output_type": "stream",
     "text": [
      "    Name  Age  Gender  Test 1  Test 2     Test 3      Height  Weight  \\\n",
      "0  Name1   56  Female   79.33    98.0  81.000000  174.836889    54.0   \n",
      "1  Name2   46  Female   79.33    91.0  98.000000  185.000000    51.0   \n",
      "2  Name3   32    Male   95.00    77.0  82.000000  154.000000    95.0   \n",
      "3  Name4   25    Male   94.00    76.0  89.000000  188.000000    73.0   \n",
      "4  Name5   38  Female   91.00    93.0  79.104222  155.000000    67.0   \n",
      "\n",
      "     Average  \n",
      "0  86.000000  \n",
      "1  89.333333  \n",
      "2  84.666667  \n",
      "3  86.333333  \n",
      "4  87.666667  \n"
     ]
    }
   ],
   "source": [
    "data.to_csv('new_synthetic.csv', index=False)\n",
    "\n",
    "print(data.head())\n"
   ]
  },
  {
   "cell_type": "markdown",
   "id": "1b4295e2",
   "metadata": {},
   "source": [
    "# Question 13:\n",
    "## Convert the following lists into a single pandas DataFrame.\n",
    "\n",
    "names = ['Alice', 'Bob', 'Charlie', 'David']\n",
    "ages = [25, 30, 35, 40]\n"
   ]
  },
  {
   "cell_type": "code",
   "execution_count": 353,
   "id": "99e64cf2",
   "metadata": {},
   "outputs": [],
   "source": [
    "data={\"names\":['Alice', 'Bob', 'Charlie', 'David'],\"ages\" : [25, 30, 35, 40]}"
   ]
  },
  {
   "cell_type": "code",
   "execution_count": 354,
   "id": "eda3bdd8",
   "metadata": {},
   "outputs": [],
   "source": [
    "df=pd.DataFrame(data)"
   ]
  },
  {
   "cell_type": "code",
   "execution_count": 355,
   "id": "8147f07e",
   "metadata": {},
   "outputs": [
    {
     "data": {
      "text/html": [
       "<div>\n",
       "<style scoped>\n",
       "    .dataframe tbody tr th:only-of-type {\n",
       "        vertical-align: middle;\n",
       "    }\n",
       "\n",
       "    .dataframe tbody tr th {\n",
       "        vertical-align: top;\n",
       "    }\n",
       "\n",
       "    .dataframe thead th {\n",
       "        text-align: right;\n",
       "    }\n",
       "</style>\n",
       "<table border=\"1\" class=\"dataframe\">\n",
       "  <thead>\n",
       "    <tr style=\"text-align: right;\">\n",
       "      <th></th>\n",
       "      <th>names</th>\n",
       "      <th>ages</th>\n",
       "    </tr>\n",
       "  </thead>\n",
       "  <tbody>\n",
       "    <tr>\n",
       "      <th>0</th>\n",
       "      <td>Alice</td>\n",
       "      <td>25</td>\n",
       "    </tr>\n",
       "    <tr>\n",
       "      <th>1</th>\n",
       "      <td>Bob</td>\n",
       "      <td>30</td>\n",
       "    </tr>\n",
       "    <tr>\n",
       "      <th>2</th>\n",
       "      <td>Charlie</td>\n",
       "      <td>35</td>\n",
       "    </tr>\n",
       "    <tr>\n",
       "      <th>3</th>\n",
       "      <td>David</td>\n",
       "      <td>40</td>\n",
       "    </tr>\n",
       "  </tbody>\n",
       "</table>\n",
       "</div>"
      ],
      "text/plain": [
       "     names  ages\n",
       "0    Alice    25\n",
       "1      Bob    30\n",
       "2  Charlie    35\n",
       "3    David    40"
      ]
     },
     "execution_count": 355,
     "metadata": {},
     "output_type": "execute_result"
    }
   ],
   "source": [
    "df"
   ]
  },
  {
   "cell_type": "markdown",
   "id": "15bc9f65",
   "metadata": {},
   "source": [
    "# Question 14: Create a list of squares of all even numbers between 1 and 20 using list comprehension."
   ]
  },
  {
   "cell_type": "code",
   "execution_count": 356,
   "id": "7b9e7955",
   "metadata": {},
   "outputs": [],
   "source": [
    "sqr=[ (x**2)  for x in range (2,21,2)]"
   ]
  },
  {
   "cell_type": "code",
   "execution_count": 357,
   "id": "73bf1609",
   "metadata": {},
   "outputs": [
    {
     "data": {
      "text/plain": [
       "[4, 16, 36, 64, 100, 144, 196, 256, 324, 400]"
      ]
     },
     "execution_count": 357,
     "metadata": {},
     "output_type": "execute_result"
    }
   ],
   "source": [
    "sqr"
   ]
  },
  {
   "cell_type": "markdown",
   "id": "709e6699",
   "metadata": {},
   "source": [
    "# Question 15:\n",
    "## Use a lambda function to create a list of odd numbers between 1 and 50."
   ]
  },
  {
   "cell_type": "code",
   "execution_count": 358,
   "id": "f2dc0c29",
   "metadata": {
    "scrolled": true
   },
   "outputs": [
    {
     "data": {
      "text/plain": [
       "[<function __main__.<listcomp>.<lambda>(x)>,\n",
       " <function __main__.<listcomp>.<lambda>(x)>,\n",
       " <function __main__.<listcomp>.<lambda>(x)>,\n",
       " <function __main__.<listcomp>.<lambda>(x)>,\n",
       " <function __main__.<listcomp>.<lambda>(x)>,\n",
       " <function __main__.<listcomp>.<lambda>(x)>,\n",
       " <function __main__.<listcomp>.<lambda>(x)>,\n",
       " <function __main__.<listcomp>.<lambda>(x)>,\n",
       " <function __main__.<listcomp>.<lambda>(x)>,\n",
       " <function __main__.<listcomp>.<lambda>(x)>,\n",
       " <function __main__.<listcomp>.<lambda>(x)>,\n",
       " <function __main__.<listcomp>.<lambda>(x)>,\n",
       " <function __main__.<listcomp>.<lambda>(x)>,\n",
       " <function __main__.<listcomp>.<lambda>(x)>,\n",
       " <function __main__.<listcomp>.<lambda>(x)>,\n",
       " <function __main__.<listcomp>.<lambda>(x)>,\n",
       " <function __main__.<listcomp>.<lambda>(x)>,\n",
       " <function __main__.<listcomp>.<lambda>(x)>,\n",
       " <function __main__.<listcomp>.<lambda>(x)>,\n",
       " <function __main__.<listcomp>.<lambda>(x)>,\n",
       " <function __main__.<listcomp>.<lambda>(x)>,\n",
       " <function __main__.<listcomp>.<lambda>(x)>,\n",
       " <function __main__.<listcomp>.<lambda>(x)>,\n",
       " <function __main__.<listcomp>.<lambda>(x)>,\n",
       " <function __main__.<listcomp>.<lambda>(x)>,\n",
       " <function __main__.<listcomp>.<lambda>(x)>,\n",
       " <function __main__.<listcomp>.<lambda>(x)>,\n",
       " <function __main__.<listcomp>.<lambda>(x)>,\n",
       " <function __main__.<listcomp>.<lambda>(x)>,\n",
       " <function __main__.<listcomp>.<lambda>(x)>,\n",
       " <function __main__.<listcomp>.<lambda>(x)>,\n",
       " <function __main__.<listcomp>.<lambda>(x)>,\n",
       " <function __main__.<listcomp>.<lambda>(x)>,\n",
       " <function __main__.<listcomp>.<lambda>(x)>,\n",
       " <function __main__.<listcomp>.<lambda>(x)>,\n",
       " <function __main__.<listcomp>.<lambda>(x)>,\n",
       " <function __main__.<listcomp>.<lambda>(x)>,\n",
       " <function __main__.<listcomp>.<lambda>(x)>,\n",
       " <function __main__.<listcomp>.<lambda>(x)>,\n",
       " <function __main__.<listcomp>.<lambda>(x)>,\n",
       " <function __main__.<listcomp>.<lambda>(x)>,\n",
       " <function __main__.<listcomp>.<lambda>(x)>,\n",
       " <function __main__.<listcomp>.<lambda>(x)>,\n",
       " <function __main__.<listcomp>.<lambda>(x)>,\n",
       " <function __main__.<listcomp>.<lambda>(x)>,\n",
       " <function __main__.<listcomp>.<lambda>(x)>,\n",
       " <function __main__.<listcomp>.<lambda>(x)>,\n",
       " <function __main__.<listcomp>.<lambda>(x)>,\n",
       " <function __main__.<listcomp>.<lambda>(x)>,\n",
       " <function __main__.<listcomp>.<lambda>(x)>]"
      ]
     },
     "execution_count": 358,
     "metadata": {},
     "output_type": "execute_result"
    }
   ],
   "source": [
    "odd=[lambda x:x%2==1  for x in range(1,51)]\n",
    "odd"
   ]
  },
  {
   "cell_type": "markdown",
   "id": "5802f96f",
   "metadata": {},
   "source": [
    "# Question 16:\n",
    "## Write a Python program to print the following star pattern:\n"
   ]
  },
  {
   "cell_type": "code",
   "execution_count": 359,
   "id": "2f5320d9",
   "metadata": {},
   "outputs": [
    {
     "name": "stdout",
     "output_type": "stream",
     "text": [
      "*\n",
      "**\n",
      "***\n",
      "****\n",
      "*****\n"
     ]
    }
   ],
   "source": [
    "for i in range(1,6):\n",
    "    print(i*\"*\")"
   ]
  }
 ],
 "metadata": {
  "colab": {
   "provenance": []
  },
  "kernelspec": {
   "display_name": "Python 3 (ipykernel)",
   "language": "python",
   "name": "python3"
  },
  "language_info": {
   "codemirror_mode": {
    "name": "ipython",
    "version": 3
   },
   "file_extension": ".py",
   "mimetype": "text/x-python",
   "name": "python",
   "nbconvert_exporter": "python",
   "pygments_lexer": "ipython3",
   "version": "3.11.3"
  }
 },
 "nbformat": 4,
 "nbformat_minor": 5
}
